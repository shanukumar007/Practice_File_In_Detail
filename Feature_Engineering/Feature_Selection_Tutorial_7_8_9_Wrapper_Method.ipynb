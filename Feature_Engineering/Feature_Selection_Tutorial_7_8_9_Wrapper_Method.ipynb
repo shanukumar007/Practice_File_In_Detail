{
 "cells": [
  {
   "cell_type": "markdown",
   "metadata": {},
   "source": [
    "## Feature Selecetion\n",
    "\n"
   ]
  },
  {
   "cell_type": "markdown",
   "metadata": {},
   "source": [
    "**Wrapper Method**\n",
    "\n",
    "- The main idea behind a wrapper method is to select which set of features works best for a machine learning model.\n",
    "- It follows a greedy search approach by evaluating all the possible combinations of features against the evaluation \n",
    "  criterion.\n",
    "- The evaluation criterion is simply the performance measure which depends on the type of problem, for e.g. For regression evaluation criterion can be MSE,MAE,MAPE,R-squared, Adjusted R-squared, similarly for classification the evaluation criterion can be accuracy, precision, recall, f1-score, etc. It selects the combination of features that gives the optimal results for the specified machine learning algorithm.\n",
    "\n",
    "**1. Forward Selection**\n",
    "\n",
    "Forward selection is an iterative method in each iteration, we keep adding the feature which best improves our\n",
    "model till an addition of a new variable does not improve the performance of the model.\n",
    "\n",
    "**2. Backward Selection**\n",
    "\n",
    "In backward elimination, we start with all the features and removes the least significant feature at each\n",
    "iteration which improves the performance of the model. We repeat this until no improvement is observed on removal\n",
    "of features.\n",
    "\n",
    "**3. Exhaustive Feature Selection**\n",
    "\n",
    "This is the most robust feature selection method covered so far. This is a brute-force evaluation of each feature subset. This means that it tries every possible combination of the variables and returns the best performing subset."
   ]
  },
  {
   "cell_type": "markdown",
   "metadata": {},
   "source": [
    "## Forward Feature Selection\n",
    "\n",
    "- In forward selection, we start with a null model and then start fitting the model with each individual feature one at a time and select the feature with the higest arruracy for classificartion and less MSE/MAPE/MAE for regression models. \n",
    "\n",
    "- Now fit a model with two features by trying combinations of the earlier selected feature with all other remaining features. Again select the feature with the higest arruracy for classificartion and less MSE/MAPE/MAE for regression models. \n",
    "\n",
    "- Now fit a model with three features by trying combinations of two previously selected features with other remaining features. Repeat this process until we have a set of selected features with a higest arruracy for classificartion and minimum MSE/MAPE/MAE for regression models of individual features."
   ]
  },
  {
   "cell_type": "markdown",
   "metadata": {},
   "source": [
    "### Forward Feature Selection for Classification Problem"
   ]
  },
  {
   "cell_type": "code",
   "execution_count": 1,
   "metadata": {},
   "outputs": [],
   "source": [
    "import pandas as pd\n",
    "import numpy as np\n",
    "import seaborn as sns\n",
    "import matplotlib.pyplot as plt"
   ]
  },
  {
   "cell_type": "code",
   "execution_count": 2,
   "metadata": {},
   "outputs": [],
   "source": [
    "#Load the dataset #https://www.kaggle.com/burak3ergun/loan-data-set\n",
    "df_loan = pd.read_csv(r\"D:\\Notebooks\\Practice CML and me\\all_ml_dl\\Data\\Data_Files\\Loan_Dataset\\loan_data_set.csv\")"
   ]
  },
  {
   "cell_type": "code",
   "execution_count": 3,
   "metadata": {},
   "outputs": [],
   "source": [
    "#Load the dataset #https://www.kaggle.com/burak3ergun/loan-data-set\n",
    "df_wine = pd.read_csv(r\"D:\\Notebooks\\Practice CML and me\\all_ml_dl\\Data\\Data_Files\\wine_quality\\winequality.csv\")"
   ]
  },
  {
   "cell_type": "code",
   "execution_count": 4,
   "metadata": {},
   "outputs": [
    {
     "data": {
      "text/html": [
       "<div>\n",
       "<style scoped>\n",
       "    .dataframe tbody tr th:only-of-type {\n",
       "        vertical-align: middle;\n",
       "    }\n",
       "\n",
       "    .dataframe tbody tr th {\n",
       "        vertical-align: top;\n",
       "    }\n",
       "\n",
       "    .dataframe thead th {\n",
       "        text-align: right;\n",
       "    }\n",
       "</style>\n",
       "<table border=\"1\" class=\"dataframe\">\n",
       "  <thead>\n",
       "    <tr style=\"text-align: right;\">\n",
       "      <th></th>\n",
       "      <th>Loan_ID</th>\n",
       "      <th>Gender</th>\n",
       "      <th>Married</th>\n",
       "      <th>Dependents</th>\n",
       "      <th>Education</th>\n",
       "      <th>Self_Employed</th>\n",
       "      <th>ApplicantIncome</th>\n",
       "      <th>CoapplicantIncome</th>\n",
       "      <th>LoanAmount</th>\n",
       "      <th>Loan_Amount_Term</th>\n",
       "      <th>Credit_History</th>\n",
       "      <th>Property_Area</th>\n",
       "      <th>Loan_Status</th>\n",
       "    </tr>\n",
       "  </thead>\n",
       "  <tbody>\n",
       "    <tr>\n",
       "      <th>0</th>\n",
       "      <td>LP001002</td>\n",
       "      <td>Male</td>\n",
       "      <td>No</td>\n",
       "      <td>0</td>\n",
       "      <td>Graduate</td>\n",
       "      <td>No</td>\n",
       "      <td>5849</td>\n",
       "      <td>0.0</td>\n",
       "      <td>NaN</td>\n",
       "      <td>360.0</td>\n",
       "      <td>1.0</td>\n",
       "      <td>Urban</td>\n",
       "      <td>Y</td>\n",
       "    </tr>\n",
       "    <tr>\n",
       "      <th>1</th>\n",
       "      <td>LP001003</td>\n",
       "      <td>Male</td>\n",
       "      <td>Yes</td>\n",
       "      <td>1</td>\n",
       "      <td>Graduate</td>\n",
       "      <td>No</td>\n",
       "      <td>4583</td>\n",
       "      <td>1508.0</td>\n",
       "      <td>128.0</td>\n",
       "      <td>360.0</td>\n",
       "      <td>1.0</td>\n",
       "      <td>Rural</td>\n",
       "      <td>N</td>\n",
       "    </tr>\n",
       "  </tbody>\n",
       "</table>\n",
       "</div>"
      ],
      "text/plain": [
       "    Loan_ID Gender Married Dependents Education Self_Employed  \\\n",
       "0  LP001002   Male      No          0  Graduate            No   \n",
       "1  LP001003   Male     Yes          1  Graduate            No   \n",
       "\n",
       "   ApplicantIncome  CoapplicantIncome  LoanAmount  Loan_Amount_Term  \\\n",
       "0             5849                0.0         NaN             360.0   \n",
       "1             4583             1508.0       128.0             360.0   \n",
       "\n",
       "   Credit_History Property_Area Loan_Status  \n",
       "0             1.0         Urban           Y  \n",
       "1             1.0         Rural           N  "
      ]
     },
     "execution_count": 4,
     "metadata": {},
     "output_type": "execute_result"
    }
   ],
   "source": [
    "df_loan.head(2)"
   ]
  },
  {
   "cell_type": "code",
   "execution_count": 5,
   "metadata": {},
   "outputs": [
    {
     "data": {
      "text/html": [
       "<div>\n",
       "<style scoped>\n",
       "    .dataframe tbody tr th:only-of-type {\n",
       "        vertical-align: middle;\n",
       "    }\n",
       "\n",
       "    .dataframe tbody tr th {\n",
       "        vertical-align: top;\n",
       "    }\n",
       "\n",
       "    .dataframe thead th {\n",
       "        text-align: right;\n",
       "    }\n",
       "</style>\n",
       "<table border=\"1\" class=\"dataframe\">\n",
       "  <thead>\n",
       "    <tr style=\"text-align: right;\">\n",
       "      <th></th>\n",
       "      <th>fixed acidity</th>\n",
       "      <th>volatile acidity</th>\n",
       "      <th>citric acid</th>\n",
       "      <th>residual sugar</th>\n",
       "      <th>chlorides</th>\n",
       "      <th>free sulfur dioxide</th>\n",
       "      <th>total sulfur dioxide</th>\n",
       "      <th>density</th>\n",
       "      <th>pH</th>\n",
       "      <th>sulphates</th>\n",
       "      <th>alcohol</th>\n",
       "      <th>quality</th>\n",
       "      <th>good</th>\n",
       "      <th>color</th>\n",
       "    </tr>\n",
       "  </thead>\n",
       "  <tbody>\n",
       "    <tr>\n",
       "      <th>0</th>\n",
       "      <td>7.4</td>\n",
       "      <td>0.70</td>\n",
       "      <td>0.0</td>\n",
       "      <td>1.9</td>\n",
       "      <td>0.076</td>\n",
       "      <td>11.0</td>\n",
       "      <td>34.0</td>\n",
       "      <td>0.9978</td>\n",
       "      <td>3.51</td>\n",
       "      <td>0.56</td>\n",
       "      <td>9.4</td>\n",
       "      <td>5</td>\n",
       "      <td>0</td>\n",
       "      <td>red</td>\n",
       "    </tr>\n",
       "    <tr>\n",
       "      <th>1</th>\n",
       "      <td>7.8</td>\n",
       "      <td>0.88</td>\n",
       "      <td>0.0</td>\n",
       "      <td>2.6</td>\n",
       "      <td>0.098</td>\n",
       "      <td>25.0</td>\n",
       "      <td>67.0</td>\n",
       "      <td>0.9968</td>\n",
       "      <td>3.20</td>\n",
       "      <td>0.68</td>\n",
       "      <td>9.8</td>\n",
       "      <td>5</td>\n",
       "      <td>0</td>\n",
       "      <td>red</td>\n",
       "    </tr>\n",
       "  </tbody>\n",
       "</table>\n",
       "</div>"
      ],
      "text/plain": [
       "   fixed acidity  volatile acidity  citric acid  residual sugar  chlorides  \\\n",
       "0            7.4              0.70          0.0             1.9      0.076   \n",
       "1            7.8              0.88          0.0             2.6      0.098   \n",
       "\n",
       "   free sulfur dioxide  total sulfur dioxide  density    pH  sulphates  \\\n",
       "0                 11.0                  34.0   0.9978  3.51       0.56   \n",
       "1                 25.0                  67.0   0.9968  3.20       0.68   \n",
       "\n",
       "   alcohol  quality  good color  \n",
       "0      9.4        5     0   red  \n",
       "1      9.8        5     0   red  "
      ]
     },
     "execution_count": 5,
     "metadata": {},
     "output_type": "execute_result"
    }
   ],
   "source": [
    "df_wine.head(2)"
   ]
  },
  {
   "cell_type": "code",
   "execution_count": 6,
   "metadata": {},
   "outputs": [
    {
     "name": "stdout",
     "output_type": "stream",
     "text": [
      "<class 'pandas.core.frame.DataFrame'>\n",
      "RangeIndex: 614 entries, 0 to 613\n",
      "Data columns (total 13 columns):\n",
      " #   Column             Non-Null Count  Dtype  \n",
      "---  ------             --------------  -----  \n",
      " 0   Loan_ID            614 non-null    object \n",
      " 1   Gender             601 non-null    object \n",
      " 2   Married            611 non-null    object \n",
      " 3   Dependents         599 non-null    object \n",
      " 4   Education          614 non-null    object \n",
      " 5   Self_Employed      582 non-null    object \n",
      " 6   ApplicantIncome    614 non-null    int64  \n",
      " 7   CoapplicantIncome  614 non-null    float64\n",
      " 8   LoanAmount         592 non-null    float64\n",
      " 9   Loan_Amount_Term   600 non-null    float64\n",
      " 10  Credit_History     564 non-null    float64\n",
      " 11  Property_Area      614 non-null    object \n",
      " 12  Loan_Status        614 non-null    object \n",
      "dtypes: float64(4), int64(1), object(8)\n",
      "memory usage: 62.5+ KB\n"
     ]
    }
   ],
   "source": [
    "df_loan.info()"
   ]
  },
  {
   "cell_type": "code",
   "execution_count": 7,
   "metadata": {},
   "outputs": [],
   "source": [
    "# Remove all null value\n",
    "df_loan.dropna(inplace=True)\n",
    "# drop the uninformatica column(\"Loan_ID\")\n",
    "df_loan.drop(labels=[\"Loan_ID\"],axis=1,inplace=True)\n",
    "df_loan.reset_index(drop=True,inplace=True)"
   ]
  },
  {
   "cell_type": "code",
   "execution_count": 8,
   "metadata": {},
   "outputs": [
    {
     "name": "stdout",
     "output_type": "stream",
     "text": [
      "<class 'pandas.core.frame.DataFrame'>\n",
      "RangeIndex: 480 entries, 0 to 479\n",
      "Data columns (total 12 columns):\n",
      " #   Column             Non-Null Count  Dtype  \n",
      "---  ------             --------------  -----  \n",
      " 0   Gender             480 non-null    object \n",
      " 1   Married            480 non-null    object \n",
      " 2   Dependents         480 non-null    object \n",
      " 3   Education          480 non-null    object \n",
      " 4   Self_Employed      480 non-null    object \n",
      " 5   ApplicantIncome    480 non-null    int64  \n",
      " 6   CoapplicantIncome  480 non-null    float64\n",
      " 7   LoanAmount         480 non-null    float64\n",
      " 8   Loan_Amount_Term   480 non-null    float64\n",
      " 9   Credit_History     480 non-null    float64\n",
      " 10  Property_Area      480 non-null    object \n",
      " 11  Loan_Status        480 non-null    object \n",
      "dtypes: float64(4), int64(1), object(7)\n",
      "memory usage: 45.1+ KB\n"
     ]
    }
   ],
   "source": [
    "df_loan.info()"
   ]
  },
  {
   "cell_type": "code",
   "execution_count": 9,
   "metadata": {},
   "outputs": [],
   "source": [
    "from sklearn.preprocessing import LabelEncoder\n",
    "le = LabelEncoder()\n",
    "cols = df_loan.columns.tolist()\n",
    "for column in cols:\n",
    "    if df_loan[column].dtype == 'object':\n",
    "        df_loan[column] = le.fit_transform(df_loan[column])"
   ]
  },
  {
   "cell_type": "code",
   "execution_count": 10,
   "metadata": {},
   "outputs": [
    {
     "name": "stdout",
     "output_type": "stream",
     "text": [
      "<class 'pandas.core.frame.DataFrame'>\n",
      "RangeIndex: 6497 entries, 0 to 6496\n",
      "Data columns (total 14 columns):\n",
      " #   Column                Non-Null Count  Dtype  \n",
      "---  ------                --------------  -----  \n",
      " 0   fixed acidity         6497 non-null   float64\n",
      " 1   volatile acidity      6497 non-null   float64\n",
      " 2   citric acid           6497 non-null   float64\n",
      " 3   residual sugar        6497 non-null   float64\n",
      " 4   chlorides             6497 non-null   float64\n",
      " 5   free sulfur dioxide   6497 non-null   float64\n",
      " 6   total sulfur dioxide  6497 non-null   float64\n",
      " 7   density               6497 non-null   float64\n",
      " 8   pH                    6497 non-null   float64\n",
      " 9   sulphates             6497 non-null   float64\n",
      " 10  alcohol               6497 non-null   float64\n",
      " 11  quality               6497 non-null   int64  \n",
      " 12  good                  6497 non-null   int64  \n",
      " 13  color                 6497 non-null   object \n",
      "dtypes: float64(11), int64(2), object(1)\n",
      "memory usage: 710.7+ KB\n"
     ]
    }
   ],
   "source": [
    "df_wine.info()"
   ]
  },
  {
   "cell_type": "code",
   "execution_count": 11,
   "metadata": {},
   "outputs": [],
   "source": [
    "#X = df_wine.iloc[:,0:-1]\n",
    "#y = df_wine[\"color\"]"
   ]
  },
  {
   "cell_type": "code",
   "execution_count": 12,
   "metadata": {},
   "outputs": [],
   "source": [
    "X = df_loan.iloc[:,0:-1]\n",
    "y = df_loan[\"Loan_Status\"]"
   ]
  },
  {
   "cell_type": "code",
   "execution_count": 13,
   "metadata": {},
   "outputs": [
    {
     "data": {
      "text/html": [
       "<div>\n",
       "<style scoped>\n",
       "    .dataframe tbody tr th:only-of-type {\n",
       "        vertical-align: middle;\n",
       "    }\n",
       "\n",
       "    .dataframe tbody tr th {\n",
       "        vertical-align: top;\n",
       "    }\n",
       "\n",
       "    .dataframe thead th {\n",
       "        text-align: right;\n",
       "    }\n",
       "</style>\n",
       "<table border=\"1\" class=\"dataframe\">\n",
       "  <thead>\n",
       "    <tr style=\"text-align: right;\">\n",
       "      <th></th>\n",
       "      <th>Gender</th>\n",
       "      <th>Married</th>\n",
       "      <th>Dependents</th>\n",
       "      <th>Education</th>\n",
       "      <th>Self_Employed</th>\n",
       "      <th>ApplicantIncome</th>\n",
       "      <th>CoapplicantIncome</th>\n",
       "      <th>LoanAmount</th>\n",
       "      <th>Loan_Amount_Term</th>\n",
       "      <th>Credit_History</th>\n",
       "      <th>Property_Area</th>\n",
       "    </tr>\n",
       "  </thead>\n",
       "  <tbody>\n",
       "    <tr>\n",
       "      <th>0</th>\n",
       "      <td>1</td>\n",
       "      <td>1</td>\n",
       "      <td>1</td>\n",
       "      <td>0</td>\n",
       "      <td>0</td>\n",
       "      <td>4583</td>\n",
       "      <td>1508.0</td>\n",
       "      <td>128.0</td>\n",
       "      <td>360.0</td>\n",
       "      <td>1.0</td>\n",
       "      <td>0</td>\n",
       "    </tr>\n",
       "    <tr>\n",
       "      <th>1</th>\n",
       "      <td>1</td>\n",
       "      <td>1</td>\n",
       "      <td>0</td>\n",
       "      <td>0</td>\n",
       "      <td>1</td>\n",
       "      <td>3000</td>\n",
       "      <td>0.0</td>\n",
       "      <td>66.0</td>\n",
       "      <td>360.0</td>\n",
       "      <td>1.0</td>\n",
       "      <td>2</td>\n",
       "    </tr>\n",
       "    <tr>\n",
       "      <th>2</th>\n",
       "      <td>1</td>\n",
       "      <td>1</td>\n",
       "      <td>0</td>\n",
       "      <td>1</td>\n",
       "      <td>0</td>\n",
       "      <td>2583</td>\n",
       "      <td>2358.0</td>\n",
       "      <td>120.0</td>\n",
       "      <td>360.0</td>\n",
       "      <td>1.0</td>\n",
       "      <td>2</td>\n",
       "    </tr>\n",
       "    <tr>\n",
       "      <th>3</th>\n",
       "      <td>1</td>\n",
       "      <td>0</td>\n",
       "      <td>0</td>\n",
       "      <td>0</td>\n",
       "      <td>0</td>\n",
       "      <td>6000</td>\n",
       "      <td>0.0</td>\n",
       "      <td>141.0</td>\n",
       "      <td>360.0</td>\n",
       "      <td>1.0</td>\n",
       "      <td>2</td>\n",
       "    </tr>\n",
       "    <tr>\n",
       "      <th>4</th>\n",
       "      <td>1</td>\n",
       "      <td>1</td>\n",
       "      <td>2</td>\n",
       "      <td>0</td>\n",
       "      <td>1</td>\n",
       "      <td>5417</td>\n",
       "      <td>4196.0</td>\n",
       "      <td>267.0</td>\n",
       "      <td>360.0</td>\n",
       "      <td>1.0</td>\n",
       "      <td>2</td>\n",
       "    </tr>\n",
       "  </tbody>\n",
       "</table>\n",
       "</div>"
      ],
      "text/plain": [
       "   Gender  Married  Dependents  Education  Self_Employed  ApplicantIncome  \\\n",
       "0       1        1           1          0              0             4583   \n",
       "1       1        1           0          0              1             3000   \n",
       "2       1        1           0          1              0             2583   \n",
       "3       1        0           0          0              0             6000   \n",
       "4       1        1           2          0              1             5417   \n",
       "\n",
       "   CoapplicantIncome  LoanAmount  Loan_Amount_Term  Credit_History  \\\n",
       "0             1508.0       128.0             360.0             1.0   \n",
       "1                0.0        66.0             360.0             1.0   \n",
       "2             2358.0       120.0             360.0             1.0   \n",
       "3                0.0       141.0             360.0             1.0   \n",
       "4             4196.0       267.0             360.0             1.0   \n",
       "\n",
       "   Property_Area  \n",
       "0              0  \n",
       "1              2  \n",
       "2              2  \n",
       "3              2  \n",
       "4              2  "
      ]
     },
     "execution_count": 13,
     "metadata": {},
     "output_type": "execute_result"
    }
   ],
   "source": [
    "X.head()"
   ]
  },
  {
   "cell_type": "code",
   "execution_count": 14,
   "metadata": {},
   "outputs": [
    {
     "name": "stdout",
     "output_type": "stream",
     "text": [
      "(480, 11)\n",
      "(480,)\n",
      "<class 'pandas.core.frame.DataFrame'>\n",
      "<class 'pandas.core.series.Series'>\n"
     ]
    }
   ],
   "source": [
    "print(X.shape)\n",
    "print(y.shape)\n",
    "print(type(X))\n",
    "print(type(y))"
   ]
  },
  {
   "cell_type": "code",
   "execution_count": 15,
   "metadata": {},
   "outputs": [],
   "source": [
    "# http://rasbt.github.io/mlxtend/user_guide/feature_selection/SequentialFeatureSelector/\n",
    "# Lets use the built in function in Python\n",
    "from mlxtend.feature_selection import SequentialFeatureSelector as SFS\n",
    "from sklearn.neighbors import KNeighborsClassifier as knn\n",
    "from sklearn.linear_model import LogisticRegression as LGR\n",
    "from sklearn.ensemble import RandomForestClassifier as rfc"
   ]
  },
  {
   "cell_type": "code",
   "execution_count": 16,
   "metadata": {},
   "outputs": [],
   "source": [
    "#from sklearn.datasets import load_iris"
   ]
  },
  {
   "cell_type": "code",
   "execution_count": 17,
   "metadata": {},
   "outputs": [],
   "source": [
    "#iris = load_iris()\n",
    "#X = iris.data\n",
    "#y = iris.target"
   ]
  },
  {
   "cell_type": "code",
   "execution_count": 18,
   "metadata": {},
   "outputs": [
    {
     "data": {
      "text/plain": [
       "('Gender',\n",
       " 'Married',\n",
       " 'Dependents',\n",
       " 'Education',\n",
       " 'Self_Employed',\n",
       " 'ApplicantIncome',\n",
       " 'CoapplicantIncome',\n",
       " 'LoanAmount',\n",
       " 'Loan_Amount_Term',\n",
       " 'Credit_History',\n",
       " 'Property_Area')"
      ]
     },
     "execution_count": 18,
     "metadata": {},
     "output_type": "execute_result"
    }
   ],
   "source": [
    "feature_names=tuple(X.columns)\n",
    "feature_names"
   ]
  },
  {
   "cell_type": "code",
   "execution_count": 19,
   "metadata": {},
   "outputs": [
    {
     "data": {
      "text/plain": [
       "((480, 11), (480,))"
      ]
     },
     "execution_count": 19,
     "metadata": {},
     "output_type": "execute_result"
    }
   ],
   "source": [
    "X.shape, y.shape"
   ]
  },
  {
   "cell_type": "code",
   "execution_count": 20,
   "metadata": {},
   "outputs": [
    {
     "name": "stderr",
     "output_type": "stream",
     "text": [
      "[Parallel(n_jobs=1)]: Using backend SequentialBackend with 1 concurrent workers.\n",
      "[Parallel(n_jobs=1)]: Done   1 out of   1 | elapsed:    0.1s remaining:    0.0s\n",
      "[Parallel(n_jobs=1)]: Done  11 out of  11 | elapsed:    0.2s finished\n",
      "\n",
      "[2023-10-13 12:16:22] Features: 1/11 -- score: 0.8083333333333333[Parallel(n_jobs=1)]: Using backend SequentialBackend with 1 concurrent workers.\n",
      "[Parallel(n_jobs=1)]: Done   1 out of   1 | elapsed:    0.0s remaining:    0.0s\n",
      "[Parallel(n_jobs=1)]: Done  10 out of  10 | elapsed:    0.1s finished\n",
      "\n",
      "[2023-10-13 12:16:22] Features: 2/11 -- score: 0.8104166666666667[Parallel(n_jobs=1)]: Using backend SequentialBackend with 1 concurrent workers.\n",
      "[Parallel(n_jobs=1)]: Done   1 out of   1 | elapsed:    0.0s remaining:    0.0s\n",
      "[Parallel(n_jobs=1)]: Done   9 out of   9 | elapsed:    0.2s finished\n",
      "\n",
      "[2023-10-13 12:16:23] Features: 3/11 -- score: 0.8104166666666667[Parallel(n_jobs=1)]: Using backend SequentialBackend with 1 concurrent workers.\n",
      "[Parallel(n_jobs=1)]: Done   1 out of   1 | elapsed:    0.0s remaining:    0.0s\n",
      "[Parallel(n_jobs=1)]: Done   8 out of   8 | elapsed:    0.1s finished\n",
      "\n",
      "[2023-10-13 12:16:23] Features: 4/11 -- score: 0.8104166666666667[Parallel(n_jobs=1)]: Using backend SequentialBackend with 1 concurrent workers.\n",
      "[Parallel(n_jobs=1)]: Done   1 out of   1 | elapsed:    0.0s remaining:    0.0s\n",
      "[Parallel(n_jobs=1)]: Done   7 out of   7 | elapsed:    0.3s finished\n",
      "\n",
      "[2023-10-13 12:16:23] Features: 5/11 -- score: 0.8104166666666667[Parallel(n_jobs=1)]: Using backend SequentialBackend with 1 concurrent workers.\n",
      "[Parallel(n_jobs=1)]: Done   1 out of   1 | elapsed:    0.0s remaining:    0.0s\n",
      "[Parallel(n_jobs=1)]: Done   6 out of   6 | elapsed:    0.2s finished\n",
      "\n",
      "[2023-10-13 12:16:23] Features: 6/11 -- score: 0.8104166666666667[Parallel(n_jobs=1)]: Using backend SequentialBackend with 1 concurrent workers.\n",
      "[Parallel(n_jobs=1)]: Done   1 out of   1 | elapsed:    0.0s remaining:    0.0s\n",
      "[Parallel(n_jobs=1)]: Done   5 out of   5 | elapsed:    0.1s finished\n",
      "\n",
      "[2023-10-13 12:16:24] Features: 7/11 -- score: 0.8104166666666667[Parallel(n_jobs=1)]: Using backend SequentialBackend with 1 concurrent workers.\n",
      "[Parallel(n_jobs=1)]: Done   1 out of   1 | elapsed:    0.0s remaining:    0.0s\n",
      "[Parallel(n_jobs=1)]: Done   4 out of   4 | elapsed:    0.1s finished\n",
      "\n",
      "[2023-10-13 12:16:24] Features: 8/11 -- score: 0.8104166666666667[Parallel(n_jobs=1)]: Using backend SequentialBackend with 1 concurrent workers.\n",
      "[Parallel(n_jobs=1)]: Done   1 out of   1 | elapsed:    0.0s remaining:    0.0s\n"
     ]
    },
    {
     "name": "stdout",
     "output_type": "stream",
     "text": [
      "Selected features: ['6', '9']\n"
     ]
    },
    {
     "name": "stderr",
     "output_type": "stream",
     "text": [
      "[Parallel(n_jobs=1)]: Done   3 out of   3 | elapsed:    0.0s finished\n",
      "\n",
      "[2023-10-13 12:16:24] Features: 9/11 -- score: 0.8104166666666667[Parallel(n_jobs=1)]: Using backend SequentialBackend with 1 concurrent workers.\n",
      "[Parallel(n_jobs=1)]: Done   1 out of   1 | elapsed:    0.0s remaining:    0.0s\n",
      "[Parallel(n_jobs=1)]: Done   2 out of   2 | elapsed:    0.0s finished\n",
      "\n",
      "[2023-10-13 12:16:24] Features: 10/11 -- score: 0.8104166666666667[Parallel(n_jobs=1)]: Using backend SequentialBackend with 1 concurrent workers.\n",
      "[Parallel(n_jobs=1)]: Done   1 out of   1 | elapsed:    0.0s remaining:    0.0s\n",
      "[Parallel(n_jobs=1)]: Done   1 out of   1 | elapsed:    0.0s finished\n",
      "\n",
      "[2023-10-13 12:16:24] Features: 11/11 -- score: 0.8083333333333333"
     ]
    }
   ],
   "source": [
    "'''\n",
    "sfs1 = SFS(#knn(n_neighbors=3),\n",
    "           #rfc(n_jobs=8),\n",
    "           LGR(max_iter=1000),\n",
    "           k_features='best', \n",
    "           forward=True, \n",
    "           floating=False, \n",
    "           verbose=2,\n",
    "           #scoring = 'neg_mean_squared_error',  # sklearn regressors\n",
    "           scoring='accuracy',  # sklearn classifiers\n",
    "           cv=0)\n",
    "\n",
    "sfs1 = sfs1.fit(X, y,custom_feature_names=feature_names)\n",
    "'''\n",
    "# Assuming you have already imported the necessary libraries\n",
    "from sklearn.linear_model import LogisticRegression\n",
    "from mlxtend.feature_selection import SequentialFeatureSelector as SFS\n",
    "import numpy as np\n",
    "\n",
    "# Assuming you have your data in X and y\n",
    "\n",
    "# Assuming feature_names is a list of custom feature names\n",
    "X.columns = feature_names\n",
    "\n",
    "# Initialize Logistic Regression model\n",
    "logistic_model = LogisticRegression(max_iter=1000)\n",
    "\n",
    "# Initialize SFS\n",
    "sfs1 = SFS(estimator=logistic_model,\n",
    "           k_features='best', \n",
    "           forward=True, \n",
    "           floating=False, \n",
    "           verbose=2,\n",
    "           scoring='accuracy',\n",
    "           cv=0)\n",
    "\n",
    "# Fit SFS\n",
    "sfs1 = sfs1.fit(X.values, y)\n",
    "\n",
    "# Print selected features\n",
    "selected_features = list(sfs1.k_feature_names_)\n",
    "print(\"Selected features:\", selected_features)\n"
   ]
  },
  {
   "cell_type": "code",
   "execution_count": 21,
   "metadata": {},
   "outputs": [
    {
     "data": {
      "text/plain": [
       "{1: {'feature_idx': (9,),\n",
       "  'cv_scores': array([0.80833333]),\n",
       "  'avg_score': 0.8083333333333333,\n",
       "  'feature_names': ('9',)},\n",
       " 2: {'feature_idx': (6, 9),\n",
       "  'cv_scores': array([0.81041667]),\n",
       "  'avg_score': 0.8104166666666667,\n",
       "  'feature_names': ('6', '9')},\n",
       " 3: {'feature_idx': (0, 6, 9),\n",
       "  'cv_scores': array([0.81041667]),\n",
       "  'avg_score': 0.8104166666666667,\n",
       "  'feature_names': ('0', '6', '9')},\n",
       " 4: {'feature_idx': (0, 2, 6, 9),\n",
       "  'cv_scores': array([0.81041667]),\n",
       "  'avg_score': 0.8104166666666667,\n",
       "  'feature_names': ('0', '2', '6', '9')},\n",
       " 5: {'feature_idx': (0, 1, 2, 6, 9),\n",
       "  'cv_scores': array([0.81041667]),\n",
       "  'avg_score': 0.8104166666666667,\n",
       "  'feature_names': ('0', '1', '2', '6', '9')},\n",
       " 6: {'feature_idx': (0, 1, 2, 3, 6, 9),\n",
       "  'cv_scores': array([0.81041667]),\n",
       "  'avg_score': 0.8104166666666667,\n",
       "  'feature_names': ('0', '1', '2', '3', '6', '9')},\n",
       " 7: {'feature_idx': (0, 1, 2, 3, 4, 6, 9),\n",
       "  'cv_scores': array([0.81041667]),\n",
       "  'avg_score': 0.8104166666666667,\n",
       "  'feature_names': ('0', '1', '2', '3', '4', '6', '9')},\n",
       " 8: {'feature_idx': (0, 1, 2, 3, 4, 6, 8, 9),\n",
       "  'cv_scores': array([0.81041667]),\n",
       "  'avg_score': 0.8104166666666667,\n",
       "  'feature_names': ('0', '1', '2', '3', '4', '6', '8', '9')},\n",
       " 9: {'feature_idx': (0, 1, 2, 3, 4, 6, 8, 9, 10),\n",
       "  'cv_scores': array([0.81041667]),\n",
       "  'avg_score': 0.8104166666666667,\n",
       "  'feature_names': ('0', '1', '2', '3', '4', '6', '8', '9', '10')},\n",
       " 10: {'feature_idx': (0, 1, 2, 3, 4, 6, 7, 8, 9, 10),\n",
       "  'cv_scores': array([0.81041667]),\n",
       "  'avg_score': 0.8104166666666667,\n",
       "  'feature_names': ('0', '1', '2', '3', '4', '6', '7', '8', '9', '10')},\n",
       " 11: {'feature_idx': (0, 1, 2, 3, 4, 5, 6, 7, 8, 9, 10),\n",
       "  'cv_scores': array([0.80833333]),\n",
       "  'avg_score': 0.8083333333333333,\n",
       "  'feature_names': ('0', '1', '2', '3', '4', '5', '6', '7', '8', '9', '10')}}"
      ]
     },
     "execution_count": 21,
     "metadata": {},
     "output_type": "execute_result"
    }
   ],
   "source": [
    "# Via the subsets_ attribute, we can take a look at the selected feature indices at each step:\n",
    "sfs1.subsets_"
   ]
  },
  {
   "cell_type": "code",
   "execution_count": 22,
   "metadata": {},
   "outputs": [
    {
     "name": "stderr",
     "output_type": "stream",
     "text": [
      "D:\\Shanu_user\\Lib\\site-packages\\numpy\\core\\_methods.py:269: RuntimeWarning: Degrees of freedom <= 0 for slice\n",
      "  ret = _var(a, axis=axis, dtype=dtype, out=out, ddof=ddof,\n",
      "D:\\Shanu_user\\Lib\\site-packages\\numpy\\core\\_methods.py:261: RuntimeWarning: invalid value encountered in scalar divide\n",
      "  ret = ret.dtype.type(ret / rcount)\n"
     ]
    },
    {
     "data": {
      "text/plain": [
       "{1: {'feature_idx': (9,),\n",
       "  'cv_scores': array([0.80833333]),\n",
       "  'avg_score': 0.8083333333333333,\n",
       "  'feature_names': ('9',),\n",
       "  'ci_bound': nan,\n",
       "  'std_dev': 0.0,\n",
       "  'std_err': nan},\n",
       " 2: {'feature_idx': (6, 9),\n",
       "  'cv_scores': array([0.81041667]),\n",
       "  'avg_score': 0.8104166666666667,\n",
       "  'feature_names': ('6', '9'),\n",
       "  'ci_bound': nan,\n",
       "  'std_dev': 0.0,\n",
       "  'std_err': nan},\n",
       " 3: {'feature_idx': (0, 6, 9),\n",
       "  'cv_scores': array([0.81041667]),\n",
       "  'avg_score': 0.8104166666666667,\n",
       "  'feature_names': ('0', '6', '9'),\n",
       "  'ci_bound': nan,\n",
       "  'std_dev': 0.0,\n",
       "  'std_err': nan},\n",
       " 4: {'feature_idx': (0, 2, 6, 9),\n",
       "  'cv_scores': array([0.81041667]),\n",
       "  'avg_score': 0.8104166666666667,\n",
       "  'feature_names': ('0', '2', '6', '9'),\n",
       "  'ci_bound': nan,\n",
       "  'std_dev': 0.0,\n",
       "  'std_err': nan},\n",
       " 5: {'feature_idx': (0, 1, 2, 6, 9),\n",
       "  'cv_scores': array([0.81041667]),\n",
       "  'avg_score': 0.8104166666666667,\n",
       "  'feature_names': ('0', '1', '2', '6', '9'),\n",
       "  'ci_bound': nan,\n",
       "  'std_dev': 0.0,\n",
       "  'std_err': nan},\n",
       " 6: {'feature_idx': (0, 1, 2, 3, 6, 9),\n",
       "  'cv_scores': array([0.81041667]),\n",
       "  'avg_score': 0.8104166666666667,\n",
       "  'feature_names': ('0', '1', '2', '3', '6', '9'),\n",
       "  'ci_bound': nan,\n",
       "  'std_dev': 0.0,\n",
       "  'std_err': nan},\n",
       " 7: {'feature_idx': (0, 1, 2, 3, 4, 6, 9),\n",
       "  'cv_scores': array([0.81041667]),\n",
       "  'avg_score': 0.8104166666666667,\n",
       "  'feature_names': ('0', '1', '2', '3', '4', '6', '9'),\n",
       "  'ci_bound': nan,\n",
       "  'std_dev': 0.0,\n",
       "  'std_err': nan},\n",
       " 8: {'feature_idx': (0, 1, 2, 3, 4, 6, 8, 9),\n",
       "  'cv_scores': array([0.81041667]),\n",
       "  'avg_score': 0.8104166666666667,\n",
       "  'feature_names': ('0', '1', '2', '3', '4', '6', '8', '9'),\n",
       "  'ci_bound': nan,\n",
       "  'std_dev': 0.0,\n",
       "  'std_err': nan},\n",
       " 9: {'feature_idx': (0, 1, 2, 3, 4, 6, 8, 9, 10),\n",
       "  'cv_scores': array([0.81041667]),\n",
       "  'avg_score': 0.8104166666666667,\n",
       "  'feature_names': ('0', '1', '2', '3', '4', '6', '8', '9', '10'),\n",
       "  'ci_bound': nan,\n",
       "  'std_dev': 0.0,\n",
       "  'std_err': nan},\n",
       " 10: {'feature_idx': (0, 1, 2, 3, 4, 6, 7, 8, 9, 10),\n",
       "  'cv_scores': array([0.81041667]),\n",
       "  'avg_score': 0.8104166666666667,\n",
       "  'feature_names': ('0', '1', '2', '3', '4', '6', '7', '8', '9', '10'),\n",
       "  'ci_bound': nan,\n",
       "  'std_dev': 0.0,\n",
       "  'std_err': nan},\n",
       " 11: {'feature_idx': (0, 1, 2, 3, 4, 5, 6, 7, 8, 9, 10),\n",
       "  'cv_scores': array([0.80833333]),\n",
       "  'avg_score': 0.8083333333333333,\n",
       "  'feature_names': ('0', '1', '2', '3', '4', '5', '6', '7', '8', '9', '10'),\n",
       "  'ci_bound': nan,\n",
       "  'std_dev': 0.0,\n",
       "  'std_err': nan}}"
      ]
     },
     "execution_count": 22,
     "metadata": {},
     "output_type": "execute_result"
    }
   ],
   "source": [
    "sfs1.get_metric_dict()"
   ]
  },
  {
   "cell_type": "code",
   "execution_count": 23,
   "metadata": {},
   "outputs": [
    {
     "data": {
      "image/png": "[encoded data removed]",
      "text/plain": [
       "<Figure size 640x480 with 1 Axes>"
      ]
     },
     "metadata": {},
     "output_type": "display_data"
    }
   ],
   "source": [
    "from mlxtend.plotting import plot_sequential_feature_selection as plot_sfs\n",
    "fig1 = plot_sfs(sfs1.get_metric_dict(confidence_interval=0.95), kind='std_err')\n",
    "\n",
    "plt.title('Sequential Forward Selection')\n",
    "plt.grid()\n",
    "plt.show()"
   ]
  },
  {
   "cell_type": "code",
   "execution_count": 24,
   "metadata": {},
   "outputs": [
    {
     "data": {
      "text/plain": [
       "(('6', '9'), (6, 9))"
      ]
     },
     "execution_count": 24,
     "metadata": {},
     "output_type": "execute_result"
    }
   ],
   "source": [
    "# Lets access the indices of the best features directly via the k_feature_idx_ attribute:\n",
    "sfs1.k_feature_names_, sfs1.k_feature_idx_"
   ]
  },
  {
   "cell_type": "code",
   "execution_count": 25,
   "metadata": {},
   "outputs": [
    {
     "name": "stderr",
     "output_type": "stream",
     "text": [
      "D:\\Shanu_user\\Lib\\site-packages\\numpy\\core\\_methods.py:269: RuntimeWarning: Degrees of freedom <= 0 for slice\n",
      "  ret = _var(a, axis=axis, dtype=dtype, out=out, ddof=ddof,\n",
      "D:\\Shanu_user\\Lib\\site-packages\\numpy\\core\\_methods.py:261: RuntimeWarning: invalid value encountered in scalar divide\n",
      "  ret = ret.dtype.type(ret / rcount)\n"
     ]
    },
    {
     "data": {
      "text/html": [
       "<div>\n",
       "<style scoped>\n",
       "    .dataframe tbody tr th:only-of-type {\n",
       "        vertical-align: middle;\n",
       "    }\n",
       "\n",
       "    .dataframe tbody tr th {\n",
       "        vertical-align: top;\n",
       "    }\n",
       "\n",
       "    .dataframe thead th {\n",
       "        text-align: right;\n",
       "    }\n",
       "</style>\n",
       "<table border=\"1\" class=\"dataframe\">\n",
       "  <thead>\n",
       "    <tr style=\"text-align: right;\">\n",
       "      <th></th>\n",
       "      <th>feature_idx</th>\n",
       "      <th>avg_score</th>\n",
       "    </tr>\n",
       "  </thead>\n",
       "  <tbody>\n",
       "    <tr>\n",
       "      <th>1</th>\n",
       "      <td>(9,)</td>\n",
       "      <td>0.808333</td>\n",
       "    </tr>\n",
       "    <tr>\n",
       "      <th>2</th>\n",
       "      <td>(6, 9)</td>\n",
       "      <td>0.810417</td>\n",
       "    </tr>\n",
       "    <tr>\n",
       "      <th>3</th>\n",
       "      <td>(0, 6, 9)</td>\n",
       "      <td>0.810417</td>\n",
       "    </tr>\n",
       "    <tr>\n",
       "      <th>4</th>\n",
       "      <td>(0, 2, 6, 9)</td>\n",
       "      <td>0.810417</td>\n",
       "    </tr>\n",
       "    <tr>\n",
       "      <th>5</th>\n",
       "      <td>(0, 1, 2, 6, 9)</td>\n",
       "      <td>0.810417</td>\n",
       "    </tr>\n",
       "    <tr>\n",
       "      <th>6</th>\n",
       "      <td>(0, 1, 2, 3, 6, 9)</td>\n",
       "      <td>0.810417</td>\n",
       "    </tr>\n",
       "    <tr>\n",
       "      <th>7</th>\n",
       "      <td>(0, 1, 2, 3, 4, 6, 9)</td>\n",
       "      <td>0.810417</td>\n",
       "    </tr>\n",
       "    <tr>\n",
       "      <th>8</th>\n",
       "      <td>(0, 1, 2, 3, 4, 6, 8, 9)</td>\n",
       "      <td>0.810417</td>\n",
       "    </tr>\n",
       "    <tr>\n",
       "      <th>9</th>\n",
       "      <td>(0, 1, 2, 3, 4, 6, 8, 9, 10)</td>\n",
       "      <td>0.810417</td>\n",
       "    </tr>\n",
       "    <tr>\n",
       "      <th>10</th>\n",
       "      <td>(0, 1, 2, 3, 4, 6, 7, 8, 9, 10)</td>\n",
       "      <td>0.810417</td>\n",
       "    </tr>\n",
       "    <tr>\n",
       "      <th>11</th>\n",
       "      <td>(0, 1, 2, 3, 4, 5, 6, 7, 8, 9, 10)</td>\n",
       "      <td>0.808333</td>\n",
       "    </tr>\n",
       "  </tbody>\n",
       "</table>\n",
       "</div>"
      ],
      "text/plain": [
       "                           feature_idx avg_score\n",
       "1                                 (9,)  0.808333\n",
       "2                               (6, 9)  0.810417\n",
       "3                            (0, 6, 9)  0.810417\n",
       "4                         (0, 2, 6, 9)  0.810417\n",
       "5                      (0, 1, 2, 6, 9)  0.810417\n",
       "6                   (0, 1, 2, 3, 6, 9)  0.810417\n",
       "7                (0, 1, 2, 3, 4, 6, 9)  0.810417\n",
       "8             (0, 1, 2, 3, 4, 6, 8, 9)  0.810417\n",
       "9         (0, 1, 2, 3, 4, 6, 8, 9, 10)  0.810417\n",
       "10     (0, 1, 2, 3, 4, 6, 7, 8, 9, 10)  0.810417\n",
       "11  (0, 1, 2, 3, 4, 5, 6, 7, 8, 9, 10)  0.808333"
      ]
     },
     "execution_count": 25,
     "metadata": {},
     "output_type": "execute_result"
    }
   ],
   "source": [
    "df = pd.DataFrame.from_dict(sfs1.get_metric_dict()).T\n",
    "df[[\"feature_idx\",\"avg_score\"]]"
   ]
  },
  {
   "cell_type": "markdown",
   "metadata": {},
   "source": [
    "### Forward Feature Selection for Regression Problem"
   ]
  },
  {
   "cell_type": "code",
   "execution_count": 26,
   "metadata": {},
   "outputs": [
    {
     "name": "stdout",
     "output_type": "stream",
     "text": [
      "Selected Features : ('CRIM', 'ZN', 'INDUS', 'CHAS', 'NOX', 'RM', 'AGE', 'DIS', 'RAD', 'TAX', 'PTRATIO', 'LSTAT', 'MEDV')\n",
      "Selected Features ID : (0, 1, 2, 3, 4, 5, 6, 7, 8, 9, 10, 11, 12)\n"
     ]
    },
    {
     "data": {
      "image/png": "[encoded data removed]",
      "text/plain": [
       "<Figure size 640x480 with 1 Axes>"
      ]
     },
     "metadata": {},
     "output_type": "display_data"
    }
   ],
   "source": [
    "from sklearn.linear_model import LinearRegression\n",
    "#from sklearn.datasets import load_boston\n",
    "import matplotlib.pyplot as plt\n",
    "from mlxtend.plotting import plot_sequential_feature_selection as plot_sfs\n",
    "\n",
    "\n",
    "\n",
    "bos = pd.read_csv(r\"D:\\Notebooks\\Practice CML and me\\all_ml_dl\\Data\\Data_Files\\Loan_Dataset\\BostonHousing.csv\")\n",
    "bos.head()  \n",
    "\n",
    "X = bos.iloc[:,0:-1]\n",
    "y = bos[\"CAT. MEDV\"]\n",
    "\n",
    "\n",
    "#boston = load_boston()\n",
    "#bos = pd.DataFrame(boston.data, columns = boston.feature_names)\n",
    "#bos['Price'] = boston.target\n",
    "#X = bos.drop(\"Price\", 1)       # feature matrix\n",
    "#y = bos['Price']               # target feature\n",
    "lr = LinearRegression()\n",
    "sfs = SFS(lr, \n",
    "          k_features=13,#'best', \n",
    "          forward=True, \n",
    "          floating=False, \n",
    "          scoring='neg_mean_squared_error',\n",
    "          cv=5)\n",
    "sfs = sfs.fit(X, y)\n",
    "fig = plot_sfs(sfs.get_metric_dict(), kind='std_err')\n",
    "print(\"Selected Features :\", sfs.k_feature_names_)\n",
    "print(\"Selected Features ID :\", sfs.k_feature_idx_)\n",
    "plt.title('Sequential Forward Selection (w. StdErr)')\n",
    "plt.grid()\n",
    "plt.show()"
   ]
  },
  {
   "cell_type": "code",
   "execution_count": 27,
   "metadata": {},
   "outputs": [
    {
     "data": {
      "text/plain": [
       "'\\nfrom sklearn.linear_model import LinearRegression\\nfrom sklearn.datasets import load_boston\\nimport matplotlib.pyplot as plt\\nfrom mlxtend.plotting import plot_sequential_feature_selection as plot_sfs\\n\\nboston = load_boston()\\nbos = pd.DataFrame(boston.data, columns = boston.feature_names)\\nbos[\\'Price\\'] = boston.target\\nX = bos.drop(\"Price\", 1)       # feature matrix\\ny = bos[\\'Price\\']               # target feature\\nlr = LinearRegression()\\nsfs = SFS(lr, \\n          k_features=13,#\\'best\\', \\n          forward=True, \\n          floating=False, \\n          scoring=\\'neg_mean_squared_error\\',\\n          cv=5)\\nsfs = sfs.fit(X, y)\\nfig = plot_sfs(sfs.get_metric_dict(), kind=\\'std_err\\')\\nprint(\"Selected Features :\", sfs.k_feature_names_)\\nprint(\"Selected Features ID :\", sfs.k_feature_idx_)\\nplt.title(\\'Sequential Forward Selection (w. StdErr)\\')\\nplt.grid()\\nplt.show()\\n'"
      ]
     },
     "execution_count": 27,
     "metadata": {},
     "output_type": "execute_result"
    }
   ],
   "source": [
    "'''\n",
    "from sklearn.linear_model import LinearRegression\n",
    "from sklearn.datasets import load_boston\n",
    "import matplotlib.pyplot as plt\n",
    "from mlxtend.plotting import plot_sequential_feature_selection as plot_sfs\n",
    "\n",
    "boston = load_boston()\n",
    "bos = pd.DataFrame(boston.data, columns = boston.feature_names)\n",
    "bos['Price'] = boston.target\n",
    "X = bos.drop(\"Price\", 1)       # feature matrix\n",
    "y = bos['Price']               # target feature\n",
    "lr = LinearRegression()\n",
    "sfs = SFS(lr, \n",
    "          k_features=13,#'best', \n",
    "          forward=True, \n",
    "          floating=False, \n",
    "          scoring='neg_mean_squared_error',\n",
    "          cv=5)\n",
    "sfs = sfs.fit(X, y)\n",
    "fig = plot_sfs(sfs.get_metric_dict(), kind='std_err')\n",
    "print(\"Selected Features :\", sfs.k_feature_names_)\n",
    "print(\"Selected Features ID :\", sfs.k_feature_idx_)\n",
    "plt.title('Sequential Forward Selection (w. StdErr)')\n",
    "plt.grid()\n",
    "plt.show()\n",
    "'''"
   ]
  },
  {
   "cell_type": "code",
   "execution_count": 27,
   "metadata": {},
   "outputs": [
    {
     "data": {
      "text/html": [
       "<div>\n",
       "<style scoped>\n",
       "    .dataframe tbody tr th:only-of-type {\n",
       "        vertical-align: middle;\n",
       "    }\n",
       "\n",
       "    .dataframe tbody tr th {\n",
       "        vertical-align: top;\n",
       "    }\n",
       "\n",
       "    .dataframe thead th {\n",
       "        text-align: right;\n",
       "    }\n",
       "</style>\n",
       "<table border=\"1\" class=\"dataframe\">\n",
       "  <thead>\n",
       "    <tr style=\"text-align: right;\">\n",
       "      <th></th>\n",
       "      <th>feature_idx</th>\n",
       "      <th>avg_score</th>\n",
       "    </tr>\n",
       "  </thead>\n",
       "  <tbody>\n",
       "    <tr>\n",
       "      <th>1</th>\n",
       "      <td>(12,)</td>\n",
       "      <td>-0.057615</td>\n",
       "    </tr>\n",
       "    <tr>\n",
       "      <th>2</th>\n",
       "      <td>(0, 12)</td>\n",
       "      <td>-0.051674</td>\n",
       "    </tr>\n",
       "    <tr>\n",
       "      <th>3</th>\n",
       "      <td>(0, 11, 12)</td>\n",
       "      <td>-0.048676</td>\n",
       "    </tr>\n",
       "    <tr>\n",
       "      <th>4</th>\n",
       "      <td>(0, 5, 11, 12)</td>\n",
       "      <td>-0.0445</td>\n",
       "    </tr>\n",
       "    <tr>\n",
       "      <th>5</th>\n",
       "      <td>(0, 1, 5, 11, 12)</td>\n",
       "      <td>-0.04413</td>\n",
       "    </tr>\n",
       "    <tr>\n",
       "      <th>6</th>\n",
       "      <td>(0, 1, 4, 5, 11, 12)</td>\n",
       "      <td>-0.043927</td>\n",
       "    </tr>\n",
       "    <tr>\n",
       "      <th>7</th>\n",
       "      <td>(0, 1, 2, 4, 5, 11, 12)</td>\n",
       "      <td>-0.043307</td>\n",
       "    </tr>\n",
       "    <tr>\n",
       "      <th>8</th>\n",
       "      <td>(0, 1, 2, 3, 4, 5, 11, 12)</td>\n",
       "      <td>-0.042846</td>\n",
       "    </tr>\n",
       "    <tr>\n",
       "      <th>9</th>\n",
       "      <td>(0, 1, 2, 3, 4, 5, 6, 11, 12)</td>\n",
       "      <td>-0.042585</td>\n",
       "    </tr>\n",
       "    <tr>\n",
       "      <th>10</th>\n",
       "      <td>(0, 1, 2, 3, 4, 5, 6, 7, 11, 12)</td>\n",
       "      <td>-0.042579</td>\n",
       "    </tr>\n",
       "    <tr>\n",
       "      <th>11</th>\n",
       "      <td>(0, 1, 2, 3, 4, 5, 6, 7, 9, 11, 12)</td>\n",
       "      <td>-0.042838</td>\n",
       "    </tr>\n",
       "    <tr>\n",
       "      <th>12</th>\n",
       "      <td>(0, 1, 2, 3, 4, 5, 6, 7, 9, 10, 11, 12)</td>\n",
       "      <td>-0.043242</td>\n",
       "    </tr>\n",
       "    <tr>\n",
       "      <th>13</th>\n",
       "      <td>(0, 1, 2, 3, 4, 5, 6, 7, 8, 9, 10, 11, 12)</td>\n",
       "      <td>-0.04356</td>\n",
       "    </tr>\n",
       "  </tbody>\n",
       "</table>\n",
       "</div>"
      ],
      "text/plain": [
       "                                   feature_idx avg_score\n",
       "1                                        (12,) -0.057615\n",
       "2                                      (0, 12) -0.051674\n",
       "3                                  (0, 11, 12) -0.048676\n",
       "4                               (0, 5, 11, 12)   -0.0445\n",
       "5                            (0, 1, 5, 11, 12)  -0.04413\n",
       "6                         (0, 1, 4, 5, 11, 12) -0.043927\n",
       "7                      (0, 1, 2, 4, 5, 11, 12) -0.043307\n",
       "8                   (0, 1, 2, 3, 4, 5, 11, 12) -0.042846\n",
       "9                (0, 1, 2, 3, 4, 5, 6, 11, 12) -0.042585\n",
       "10            (0, 1, 2, 3, 4, 5, 6, 7, 11, 12) -0.042579\n",
       "11         (0, 1, 2, 3, 4, 5, 6, 7, 9, 11, 12) -0.042838\n",
       "12     (0, 1, 2, 3, 4, 5, 6, 7, 9, 10, 11, 12) -0.043242\n",
       "13  (0, 1, 2, 3, 4, 5, 6, 7, 8, 9, 10, 11, 12)  -0.04356"
      ]
     },
     "execution_count": 27,
     "metadata": {},
     "output_type": "execute_result"
    }
   ],
   "source": [
    "df = pd.DataFrame.from_dict(sfs.get_metric_dict()).T\n",
    "df[[\"feature_idx\",\"avg_score\"]]"
   ]
  },
  {
   "cell_type": "markdown",
   "metadata": {},
   "source": [
    "## Backward Feature Selection for Classification Problem"
   ]
  },
  {
   "cell_type": "markdown",
   "metadata": {},
   "source": [
    "In short, the steps involved in backward elimination are as follows:\n",
    "\n",
    "- Choose a significance level (e.g. SL = 0.05 with a 95% confidence).\n",
    "- Fit a full model including all the features.\n",
    "- Consider the feature with the highest p-value. If the p-value > significance level then go to Step 4, otherwise terminate the process.\n",
    "- Remove the feature which is under consideration.\n",
    "- Fit a model without this feature. Repeat the entire process from Step 3."
   ]
  },
  {
   "cell_type": "code",
   "execution_count": 28,
   "metadata": {},
   "outputs": [],
   "source": [
    "import pandas as pd\n",
    "import numpy as np\n",
    "import seaborn as sns\n",
    "import matplotlib.pyplot as plt"
   ]
  },
  {
   "cell_type": "code",
   "execution_count": 29,
   "metadata": {},
   "outputs": [],
   "source": [
    "#Load the dataset #https://www.kaggle.com/burak3ergun/loan-data-set\n",
    "df_wine = pd.read_csv(r\"D:\\Notebooks\\Practice CML and me\\all_ml_dl\\Data\\Data_Files\\wine_quality\\winequality.csv\")"
   ]
  },
  {
   "cell_type": "code",
   "execution_count": 30,
   "metadata": {},
   "outputs": [],
   "source": [
    "X = df_wine.iloc[:,0:-1]\n",
    "y = df_wine[\"color\"]"
   ]
  },
  {
   "cell_type": "code",
   "execution_count": 31,
   "metadata": {},
   "outputs": [
    {
     "data": {
      "text/plain": [
       "('fixed acidity',\n",
       " 'volatile acidity',\n",
       " 'citric acid',\n",
       " 'residual sugar',\n",
       " 'chlorides',\n",
       " 'free sulfur dioxide',\n",
       " 'total sulfur dioxide',\n",
       " 'density',\n",
       " 'pH',\n",
       " 'sulphates',\n",
       " 'alcohol',\n",
       " 'quality',\n",
       " 'good')"
      ]
     },
     "execution_count": 31,
     "metadata": {},
     "output_type": "execute_result"
    }
   ],
   "source": [
    "feature_names = tuple(X.columns)\n",
    "feature_names"
   ]
  },
  {
   "cell_type": "code",
   "execution_count": 32,
   "metadata": {},
   "outputs": [],
   "source": [
    "# http://rasbt.github.io/mlxtend/user_guide/feature_selection/SequentialFeatureSelector/\n",
    "# Lets use the built in function in Python\n",
    "from mlxtend.feature_selection import SequentialFeatureSelector as SFS\n",
    "from sklearn.neighbors import KNeighborsClassifier as knn\n",
    "from sklearn.linear_model import LogisticRegression as LGR\n",
    "from sklearn.ensemble import RandomForestClassifier as rfc\n",
    "from mlxtend.plotting import plot_sequential_feature_selection as plot_sfs"
   ]
  },
  {
   "cell_type": "code",
   "execution_count": 33,
   "metadata": {},
   "outputs": [
    {
     "name": "stderr",
     "output_type": "stream",
     "text": [
      "[Parallel(n_jobs=1)]: Using backend SequentialBackend with 1 concurrent workers.\n",
      "[Parallel(n_jobs=1)]: Done   1 out of   1 | elapsed:    3.1s remaining:    0.0s\n",
      "[Parallel(n_jobs=1)]: Done  13 out of  13 | elapsed:   48.9s finished\n",
      "\n",
      "[2023-10-13 12:18:17] Features: 12/1 -- score: 0.9841460545330345[Parallel(n_jobs=1)]: Using backend SequentialBackend with 1 concurrent workers.\n",
      "[Parallel(n_jobs=1)]: Done   1 out of   1 | elapsed:    3.5s remaining:    0.0s\n",
      "[Parallel(n_jobs=1)]: Done  12 out of  12 | elapsed:   39.3s finished\n",
      "\n",
      "[2023-10-13 12:18:57] Features: 11/1 -- score: 0.9842999480387286[Parallel(n_jobs=1)]: Using backend SequentialBackend with 1 concurrent workers.\n",
      "[Parallel(n_jobs=1)]: Done   1 out of   1 | elapsed:    2.6s remaining:    0.0s\n",
      "[Parallel(n_jobs=1)]: Done  11 out of  11 | elapsed:   31.3s finished\n",
      "\n",
      "[2023-10-13 12:19:28] Features: 10/1 -- score: 0.9843000191211791[Parallel(n_jobs=1)]: Using backend SequentialBackend with 1 concurrent workers.\n",
      "[Parallel(n_jobs=1)]: Done   1 out of   1 | elapsed:    2.2s remaining:    0.0s\n",
      "[Parallel(n_jobs=1)]: Done  10 out of  10 | elapsed:   19.3s finished\n",
      "\n",
      "[2023-10-13 12:19:47] Features: 9/1 -- score: 0.9843000191211791[Parallel(n_jobs=1)]: Using backend SequentialBackend with 1 concurrent workers.\n",
      "[Parallel(n_jobs=1)]: Done   1 out of   1 | elapsed:    1.4s remaining:    0.0s\n",
      "[Parallel(n_jobs=1)]: Done   9 out of   9 | elapsed:   10.9s finished\n",
      "\n",
      "[2023-10-13 12:19:58] Features: 8/1 -- score: 0.9836843029335016[Parallel(n_jobs=1)]: Using backend SequentialBackend with 1 concurrent workers.\n",
      "[Parallel(n_jobs=1)]: Done   1 out of   1 | elapsed:    0.7s remaining:    0.0s\n",
      "[Parallel(n_jobs=1)]: Done   8 out of   8 | elapsed:    5.4s finished\n",
      "\n",
      "[2023-10-13 12:20:04] Features: 7/1 -- score: 0.9829147643225807[Parallel(n_jobs=1)]: Using backend SequentialBackend with 1 concurrent workers.\n",
      "[Parallel(n_jobs=1)]: Done   1 out of   1 | elapsed:    0.4s remaining:    0.0s\n",
      "[Parallel(n_jobs=1)]: Done   7 out of   7 | elapsed:    3.3s finished\n",
      "\n",
      "[2023-10-13 12:20:07] Features: 6/1 -- score: 0.9813755449358373[Parallel(n_jobs=1)]: Using backend SequentialBackend with 1 concurrent workers.\n",
      "[Parallel(n_jobs=1)]: Done   1 out of   1 | elapsed:    0.3s remaining:    0.0s\n",
      "[Parallel(n_jobs=1)]: Done   6 out of   6 | elapsed:    2.5s finished\n",
      "\n",
      "[2023-10-13 12:20:10] Features: 5/1 -- score: 0.9802981482310776[Parallel(n_jobs=1)]: Using backend SequentialBackend with 1 concurrent workers.\n",
      "[Parallel(n_jobs=1)]: Done   1 out of   1 | elapsed:    0.3s remaining:    0.0s\n",
      "[Parallel(n_jobs=1)]: Done   5 out of   5 | elapsed:    1.5s finished\n",
      "\n",
      "[2023-10-13 12:20:11] Features: 4/1 -- score: 0.9741416971788087[Parallel(n_jobs=1)]: Using backend SequentialBackend with 1 concurrent workers.\n",
      "[Parallel(n_jobs=1)]: Done   1 out of   1 | elapsed:    0.1s remaining:    0.0s\n",
      "[Parallel(n_jobs=1)]: Done   4 out of   4 | elapsed:    1.1s finished\n",
      "\n",
      "[2023-10-13 12:20:13] Features: 3/1 -- score: 0.9604432559458692[Parallel(n_jobs=1)]: Using backend SequentialBackend with 1 concurrent workers.\n",
      "[Parallel(n_jobs=1)]: Done   1 out of   1 | elapsed:    0.0s remaining:    0.0s\n",
      "[Parallel(n_jobs=1)]: Done   3 out of   3 | elapsed:    0.3s finished\n",
      "\n",
      "[2023-10-13 12:20:13] Features: 2/1 -- score: 0.952901692259903[Parallel(n_jobs=1)]: Using backend SequentialBackend with 1 concurrent workers.\n",
      "[Parallel(n_jobs=1)]: Done   1 out of   1 | elapsed:    0.0s remaining:    0.0s\n"
     ]
    },
    {
     "name": "stdout",
     "output_type": "stream",
     "text": [
      "Selected features: ['fixed acidity', 'volatile acidity', 'residual sugar', 'chlorides', 'free sulfur dioxide', 'total sulfur dioxide', 'density', 'pH', 'sulphates', 'alcohol']\n"
     ]
    },
    {
     "name": "stderr",
     "output_type": "stream",
     "text": [
      "[Parallel(n_jobs=1)]: Done   2 out of   2 | elapsed:    0.1s finished\n",
      "\n",
      "[2023-10-13 12:20:13] Features: 1/1 -- score: 0.9253509162883303"
     ]
    }
   ],
   "source": [
    "'''\n",
    "sbs = SFS(#knn(n_neighbors=3),\n",
    "           #rfc(n_jobs=8),\n",
    "           LGR(max_iter=4000),\n",
    "           k_features='best', \n",
    "           forward=False, \n",
    "           floating=False, \n",
    "           verbose=2,\n",
    "           #scoring = 'neg_mean_squared_error',  # sklearn regressors\n",
    "           scoring='accuracy',  # sklearn classifiers\n",
    "           cv=3)\n",
    "sbs = sbs.fit(X, y,custom_feature_names=feature_names)\n",
    "'''\n",
    "from sklearn.linear_model import LogisticRegression\n",
    "from mlxtend.feature_selection import SequentialFeatureSelector as SFS\n",
    "\n",
    "# Assuming you have your data in X and y\n",
    "\n",
    "# Initialize Logistic Regression model\n",
    "logistic_model = LogisticRegression(max_iter=4000)\n",
    "\n",
    "# Initialize SFS with forward=False for backward feature selection\n",
    "sbs = SFS(estimator=logistic_model,\n",
    "           k_features='best', \n",
    "           forward=False, \n",
    "           floating=False, \n",
    "           verbose=2,\n",
    "           scoring='accuracy',\n",
    "           cv=3)\n",
    "\n",
    "# Fit SFS\n",
    "sbs = sbs.fit(X, y)\n",
    "\n",
    "# Print selected features\n",
    "selected_features = list(sbs.k_feature_names_)\n",
    "print(\"Selected features:\", selected_features)\n",
    "\n"
   ]
  },
  {
   "cell_type": "code",
   "execution_count": 34,
   "metadata": {},
   "outputs": [
    {
     "data": {
      "text/plain": [
       "(('fixed acidity',\n",
       "  'volatile acidity',\n",
       "  'residual sugar',\n",
       "  'chlorides',\n",
       "  'free sulfur dioxide',\n",
       "  'total sulfur dioxide',\n",
       "  'density',\n",
       "  'pH',\n",
       "  'sulphates',\n",
       "  'alcohol'),\n",
       " (0, 1, 3, 4, 5, 6, 7, 8, 9, 10))"
      ]
     },
     "execution_count": 34,
     "metadata": {},
     "output_type": "execute_result"
    }
   ],
   "source": [
    "#print(\"Selected Features :\", sbs.k_feature_names_)\n",
    "sbs.k_feature_names_, sbs.k_feature_idx_"
   ]
  },
  {
   "cell_type": "code",
   "execution_count": 35,
   "metadata": {},
   "outputs": [],
   "source": [
    "#df.style.set_properties(**{'text-align': 'left'})\n",
    "df = pd.DataFrame.from_dict(sbs.get_metric_dict()).T\n",
    "df = df[[\"feature_idx\",\"avg_score\"]]\n",
    "#[\"feature_names\"] = df[\"feature_names\"].str.wrap(1000) #to set max line width of 100"
   ]
  },
  {
   "cell_type": "code",
   "execution_count": 36,
   "metadata": {},
   "outputs": [
    {
     "data": {
      "text/html": [
       "<div>\n",
       "<style scoped>\n",
       "    .dataframe tbody tr th:only-of-type {\n",
       "        vertical-align: middle;\n",
       "    }\n",
       "\n",
       "    .dataframe tbody tr th {\n",
       "        vertical-align: top;\n",
       "    }\n",
       "\n",
       "    .dataframe thead th {\n",
       "        text-align: right;\n",
       "    }\n",
       "</style>\n",
       "<table border=\"1\" class=\"dataframe\">\n",
       "  <thead>\n",
       "    <tr style=\"text-align: right;\">\n",
       "      <th></th>\n",
       "      <th>feature_idx</th>\n",
       "      <th>avg_score</th>\n",
       "    </tr>\n",
       "  </thead>\n",
       "  <tbody>\n",
       "    <tr>\n",
       "      <th>13</th>\n",
       "      <td>(0, 1, 2, 3, 4, 5, 6, 7, 8, 9, 10, 11, 12)</td>\n",
       "      <td>0.983069</td>\n",
       "    </tr>\n",
       "    <tr>\n",
       "      <th>12</th>\n",
       "      <td>(0, 1, 3, 4, 5, 6, 7, 8, 9, 10, 11, 12)</td>\n",
       "      <td>0.984146</td>\n",
       "    </tr>\n",
       "    <tr>\n",
       "      <th>11</th>\n",
       "      <td>(0, 1, 3, 4, 5, 6, 7, 8, 9, 10, 12)</td>\n",
       "      <td>0.9843</td>\n",
       "    </tr>\n",
       "    <tr>\n",
       "      <th>10</th>\n",
       "      <td>(0, 1, 3, 4, 5, 6, 7, 8, 9, 10)</td>\n",
       "      <td>0.9843</td>\n",
       "    </tr>\n",
       "    <tr>\n",
       "      <th>9</th>\n",
       "      <td>(0, 1, 3, 4, 5, 6, 8, 9, 10)</td>\n",
       "      <td>0.9843</td>\n",
       "    </tr>\n",
       "    <tr>\n",
       "      <th>8</th>\n",
       "      <td>(0, 1, 3, 5, 6, 8, 9, 10)</td>\n",
       "      <td>0.983684</td>\n",
       "    </tr>\n",
       "    <tr>\n",
       "      <th>7</th>\n",
       "      <td>(0, 1, 5, 6, 8, 9, 10)</td>\n",
       "      <td>0.982915</td>\n",
       "    </tr>\n",
       "    <tr>\n",
       "      <th>6</th>\n",
       "      <td>(0, 1, 6, 8, 9, 10)</td>\n",
       "      <td>0.981376</td>\n",
       "    </tr>\n",
       "    <tr>\n",
       "      <th>5</th>\n",
       "      <td>(0, 1, 6, 8, 9)</td>\n",
       "      <td>0.980298</td>\n",
       "    </tr>\n",
       "    <tr>\n",
       "      <th>4</th>\n",
       "      <td>(0, 1, 6, 8)</td>\n",
       "      <td>0.974142</td>\n",
       "    </tr>\n",
       "    <tr>\n",
       "      <th>3</th>\n",
       "      <td>(0, 1, 6)</td>\n",
       "      <td>0.960443</td>\n",
       "    </tr>\n",
       "    <tr>\n",
       "      <th>2</th>\n",
       "      <td>(1, 6)</td>\n",
       "      <td>0.952902</td>\n",
       "    </tr>\n",
       "    <tr>\n",
       "      <th>1</th>\n",
       "      <td>(6,)</td>\n",
       "      <td>0.925351</td>\n",
       "    </tr>\n",
       "  </tbody>\n",
       "</table>\n",
       "</div>"
      ],
      "text/plain": [
       "                                   feature_idx avg_score\n",
       "13  (0, 1, 2, 3, 4, 5, 6, 7, 8, 9, 10, 11, 12)  0.983069\n",
       "12     (0, 1, 3, 4, 5, 6, 7, 8, 9, 10, 11, 12)  0.984146\n",
       "11         (0, 1, 3, 4, 5, 6, 7, 8, 9, 10, 12)    0.9843\n",
       "10             (0, 1, 3, 4, 5, 6, 7, 8, 9, 10)    0.9843\n",
       "9                 (0, 1, 3, 4, 5, 6, 8, 9, 10)    0.9843\n",
       "8                    (0, 1, 3, 5, 6, 8, 9, 10)  0.983684\n",
       "7                       (0, 1, 5, 6, 8, 9, 10)  0.982915\n",
       "6                          (0, 1, 6, 8, 9, 10)  0.981376\n",
       "5                              (0, 1, 6, 8, 9)  0.980298\n",
       "4                                 (0, 1, 6, 8)  0.974142\n",
       "3                                    (0, 1, 6)  0.960443\n",
       "2                                       (1, 6)  0.952902\n",
       "1                                         (6,)  0.925351"
      ]
     },
     "execution_count": 36,
     "metadata": {},
     "output_type": "execute_result"
    }
   ],
   "source": [
    "df"
   ]
  },
  {
   "cell_type": "code",
   "execution_count": 37,
   "metadata": {},
   "outputs": [
    {
     "data": {
      "text/plain": [
       "{13: {'feature_idx': (0, 1, 2, 3, 4, 5, 6, 7, 8, 9, 10, 11, 12),\n",
       "  'cv_scores': array([0.97737765, 0.99215143, 0.97967667]),\n",
       "  'avg_score': 0.9830685867458241,\n",
       "  'feature_names': ('fixed acidity',\n",
       "   'volatile acidity',\n",
       "   'citric acid',\n",
       "   'residual sugar',\n",
       "   'chlorides',\n",
       "   'free sulfur dioxide',\n",
       "   'total sulfur dioxide',\n",
       "   'density',\n",
       "   'pH',\n",
       "   'sulphates',\n",
       "   'alcohol',\n",
       "   'quality',\n",
       "   'good')},\n",
       " 12: {'feature_idx': (0, 1, 3, 4, 5, 6, 7, 8, 9, 10, 11, 12),\n",
       "  'cv_scores': array([0.9787627 , 0.99261311, 0.98106236]),\n",
       "  'avg_score': 0.9841460545330345,\n",
       "  'feature_names': ('fixed acidity',\n",
       "   'volatile acidity',\n",
       "   'residual sugar',\n",
       "   'chlorides',\n",
       "   'free sulfur dioxide',\n",
       "   'total sulfur dioxide',\n",
       "   'density',\n",
       "   'pH',\n",
       "   'sulphates',\n",
       "   'alcohol',\n",
       "   'quality',\n",
       "   'good')},\n",
       " 11: {'feature_idx': (0, 1, 3, 4, 5, 6, 7, 8, 9, 10, 12),\n",
       "  'cv_scores': array([0.97968606, 0.99215143, 0.98106236]),\n",
       "  'avg_score': 0.9842999480387286,\n",
       "  'feature_names': ('fixed acidity',\n",
       "   'volatile acidity',\n",
       "   'residual sugar',\n",
       "   'chlorides',\n",
       "   'free sulfur dioxide',\n",
       "   'total sulfur dioxide',\n",
       "   'density',\n",
       "   'pH',\n",
       "   'sulphates',\n",
       "   'alcohol',\n",
       "   'good')},\n",
       " 10: {'feature_idx': (0, 1, 3, 4, 5, 6, 7, 8, 9, 10),\n",
       "  'cv_scores': array([0.97922438, 0.99215143, 0.98152425]),\n",
       "  'avg_score': 0.9843000191211791,\n",
       "  'feature_names': ('fixed acidity',\n",
       "   'volatile acidity',\n",
       "   'residual sugar',\n",
       "   'chlorides',\n",
       "   'free sulfur dioxide',\n",
       "   'total sulfur dioxide',\n",
       "   'density',\n",
       "   'pH',\n",
       "   'sulphates',\n",
       "   'alcohol')},\n",
       " 9: {'feature_idx': (0, 1, 3, 4, 5, 6, 8, 9, 10),\n",
       "  'cv_scores': array([0.97922438, 0.99215143, 0.98152425]),\n",
       "  'avg_score': 0.9843000191211791,\n",
       "  'feature_names': ('fixed acidity',\n",
       "   'volatile acidity',\n",
       "   'residual sugar',\n",
       "   'chlorides',\n",
       "   'free sulfur dioxide',\n",
       "   'total sulfur dioxide',\n",
       "   'pH',\n",
       "   'sulphates',\n",
       "   'alcohol')},\n",
       " 8: {'feature_idx': (0, 1, 3, 5, 6, 8, 9, 10),\n",
       "  'cv_scores': array([0.97830102, 0.99215143, 0.98060046]),\n",
       "  'avg_score': 0.9836843029335016,\n",
       "  'feature_names': ('fixed acidity',\n",
       "   'volatile acidity',\n",
       "   'residual sugar',\n",
       "   'free sulfur dioxide',\n",
       "   'total sulfur dioxide',\n",
       "   'pH',\n",
       "   'sulphates',\n",
       "   'alcohol')},\n",
       " 7: {'feature_idx': (0, 1, 5, 6, 8, 9, 10),\n",
       "  'cv_scores': array([0.97737765, 0.99122807, 0.98013857]),\n",
       "  'avg_score': 0.9829147643225807,\n",
       "  'feature_names': ('fixed acidity',\n",
       "   'volatile acidity',\n",
       "   'free sulfur dioxide',\n",
       "   'total sulfur dioxide',\n",
       "   'pH',\n",
       "   'sulphates',\n",
       "   'alcohol')},\n",
       " 6: {'feature_idx': (0, 1, 6, 8, 9, 10),\n",
       "  'cv_scores': array([0.97506925, 0.99076639, 0.97829099]),\n",
       "  'avg_score': 0.9813755449358373,\n",
       "  'feature_names': ('fixed acidity',\n",
       "   'volatile acidity',\n",
       "   'total sulfur dioxide',\n",
       "   'pH',\n",
       "   'sulphates',\n",
       "   'alcohol')},\n",
       " 5: {'feature_idx': (0, 1, 6, 8, 9),\n",
       "  'cv_scores': array([0.97599261, 0.98753463, 0.97736721]),\n",
       "  'avg_score': 0.9802981482310776,\n",
       "  'feature_names': ('fixed acidity',\n",
       "   'volatile acidity',\n",
       "   'total sulfur dioxide',\n",
       "   'pH',\n",
       "   'sulphates')},\n",
       " 4: {'feature_idx': (0, 1, 6, 8),\n",
       "  'cv_scores': array([0.96398892, 0.9856879 , 0.97274827]),\n",
       "  'avg_score': 0.9741416971788087,\n",
       "  'feature_names': ('fixed acidity',\n",
       "   'volatile acidity',\n",
       "   'total sulfur dioxide',\n",
       "   'pH')},\n",
       " 3: {'feature_idx': (0, 1, 6),\n",
       "  'cv_scores': array([0.9501385 , 0.97091413, 0.96027714]),\n",
       "  'avg_score': 0.9604432559458692,\n",
       "  'feature_names': ('fixed acidity',\n",
       "   'volatile acidity',\n",
       "   'total sulfur dioxide')},\n",
       " 2: {'feature_idx': (1, 6),\n",
       "  'cv_scores': array([0.94275162, 0.96075716, 0.9551963 ]),\n",
       "  'avg_score': 0.952901692259903,\n",
       "  'feature_names': ('volatile acidity', 'total sulfur dioxide')},\n",
       " 1: {'feature_idx': (6,),\n",
       "  'cv_scores': array([0.91274238, 0.93305633, 0.93025404]),\n",
       "  'avg_score': 0.9253509162883303,\n",
       "  'feature_names': ('total sulfur dioxide',)}}"
      ]
     },
     "execution_count": 37,
     "metadata": {},
     "output_type": "execute_result"
    }
   ],
   "source": [
    "sbs.subsets_"
   ]
  },
  {
   "cell_type": "code",
   "execution_count": 38,
   "metadata": {},
   "outputs": [
    {
     "name": "stdout",
     "output_type": "stream",
     "text": [
      "Selected Features : ('fixed acidity', 'volatile acidity', 'residual sugar', 'chlorides', 'free sulfur dioxide', 'total sulfur dioxide', 'density', 'pH', 'sulphates', 'alcohol')\n",
      "Selected Features ID : (0, 1, 3, 4, 5, 6, 7, 8, 9, 10)\n"
     ]
    },
    {
     "data": {
      "image/png": "[encoded data removed]",
      "text/plain": [
       "<Figure size 640x480 with 1 Axes>"
      ]
     },
     "metadata": {},
     "output_type": "display_data"
    }
   ],
   "source": [
    "fig = plot_sfs(sbs.get_metric_dict(), kind='std_err')\n",
    "print(\"Selected Features :\", sbs.k_feature_names_)\n",
    "print(\"Selected Features ID :\", sbs.k_feature_idx_)\n",
    "plt.title('Sequential Forward Selection (w. StdErr)')\n",
    "plt.grid()\n",
    "plt.show()"
   ]
  },
  {
   "cell_type": "markdown",
   "metadata": {},
   "source": [
    "**Disadvantages of Forward and Backward Feature Selection**\n",
    "\n",
    "1. Since we know that SFS adds features at each iteration, a problem can occur when we add up a feature that was useful in the beginning, but after adding more ones, is now non-useful. At this point, there’s no way to remove this kind of feature.\n",
    "2. The same thing happens to SBS but in the reverse direction—this is because of the inability of SBS to see the usefulness of a feature after being removed from the feature set.\n",
    "3. For above reasons, and for more generalization for SBS and SFS, there are two methods that can solve such an issue: \n",
    "\n",
    "    - Exhaustive Feature Selection\n",
    "    - Recursive Feature Elimination"
   ]
  },
  {
   "cell_type": "markdown",
   "metadata": {},
   "source": [
    "## Exhaustive Feature Selection\n",
    "\n",
    "This is the most robust feature selection method covered so far. This is a brute-force evaluation of each feature subset. This means that it tries every possible combination of the variables and returns the best performing subset."
   ]
  },
  {
   "cell_type": "code",
   "execution_count": 39,
   "metadata": {},
   "outputs": [],
   "source": [
    "import pandas as pd\n",
    "import numpy as np\n",
    "import matplotlib.pyplot as plt\n",
    "from sklearn.neighbors import KNeighborsClassifier as knn\n",
    "from sklearn.linear_model import LogisticRegression as LGR\n",
    "from mlxtend.feature_selection import ExhaustiveFeatureSelector\n",
    "from mlxtend.plotting import plot_sequential_feature_selection"
   ]
  },
  {
   "cell_type": "code",
   "execution_count": 40,
   "metadata": {},
   "outputs": [
    {
     "data": {
      "text/html": [
       "<div>\n",
       "<style scoped>\n",
       "    .dataframe tbody tr th:only-of-type {\n",
       "        vertical-align: middle;\n",
       "    }\n",
       "\n",
       "    .dataframe tbody tr th {\n",
       "        vertical-align: top;\n",
       "    }\n",
       "\n",
       "    .dataframe thead th {\n",
       "        text-align: right;\n",
       "    }\n",
       "</style>\n",
       "<table border=\"1\" class=\"dataframe\">\n",
       "  <thead>\n",
       "    <tr style=\"text-align: right;\">\n",
       "      <th></th>\n",
       "      <th>sepal length (cm)</th>\n",
       "      <th>sepal width (cm)</th>\n",
       "      <th>petal length (cm)</th>\n",
       "      <th>petal width (cm)</th>\n",
       "      <th>target</th>\n",
       "    </tr>\n",
       "  </thead>\n",
       "  <tbody>\n",
       "    <tr>\n",
       "      <th>0</th>\n",
       "      <td>5.1</td>\n",
       "      <td>3.5</td>\n",
       "      <td>1.4</td>\n",
       "      <td>0.2</td>\n",
       "      <td>0</td>\n",
       "    </tr>\n",
       "    <tr>\n",
       "      <th>1</th>\n",
       "      <td>4.9</td>\n",
       "      <td>3.0</td>\n",
       "      <td>1.4</td>\n",
       "      <td>0.2</td>\n",
       "      <td>0</td>\n",
       "    </tr>\n",
       "    <tr>\n",
       "      <th>2</th>\n",
       "      <td>4.7</td>\n",
       "      <td>3.2</td>\n",
       "      <td>1.3</td>\n",
       "      <td>0.2</td>\n",
       "      <td>0</td>\n",
       "    </tr>\n",
       "    <tr>\n",
       "      <th>3</th>\n",
       "      <td>4.6</td>\n",
       "      <td>3.1</td>\n",
       "      <td>1.5</td>\n",
       "      <td>0.2</td>\n",
       "      <td>0</td>\n",
       "    </tr>\n",
       "    <tr>\n",
       "      <th>4</th>\n",
       "      <td>5.0</td>\n",
       "      <td>3.6</td>\n",
       "      <td>1.4</td>\n",
       "      <td>0.2</td>\n",
       "      <td>0</td>\n",
       "    </tr>\n",
       "  </tbody>\n",
       "</table>\n",
       "</div>"
      ],
      "text/plain": [
       "   sepal length (cm)  sepal width (cm)  petal length (cm)  petal width (cm)  \\\n",
       "0                5.1               3.5                1.4               0.2   \n",
       "1                4.9               3.0                1.4               0.2   \n",
       "2                4.7               3.2                1.3               0.2   \n",
       "3                4.6               3.1                1.5               0.2   \n",
       "4                5.0               3.6                1.4               0.2   \n",
       "\n",
       "   target  \n",
       "0       0  \n",
       "1       0  \n",
       "2       0  \n",
       "3       0  \n",
       "4       0  "
      ]
     },
     "execution_count": 40,
     "metadata": {},
     "output_type": "execute_result"
    }
   ],
   "source": [
    "from sklearn.datasets import load_iris\n",
    "iris_data = load_iris()\n",
    "df_iris = pd.DataFrame(iris_data.data, columns=iris_data.feature_names)\n",
    "df_iris['target'] = pd.Series(iris_data.target)\n",
    "df_iris.head()"
   ]
  },
  {
   "cell_type": "code",
   "execution_count": 41,
   "metadata": {},
   "outputs": [],
   "source": [
    "X = df_iris.iloc[:,0:-1]\n",
    "y = df_iris[\"target\"]"
   ]
  },
  {
   "cell_type": "code",
   "execution_count": 42,
   "metadata": {},
   "outputs": [
    {
     "data": {
      "text/plain": [
       "('sepal length (cm)',\n",
       " 'sepal width (cm)',\n",
       " 'petal length (cm)',\n",
       " 'petal width (cm)')"
      ]
     },
     "execution_count": 42,
     "metadata": {},
     "output_type": "execute_result"
    }
   ],
   "source": [
    "feature_names = tuple(X.columns)\n",
    "feature_names"
   ]
  },
  {
   "cell_type": "code",
   "execution_count": 43,
   "metadata": {},
   "outputs": [],
   "source": [
    "efs = ExhaustiveFeatureSelector(\n",
    "           #knn(n_neighbors=3),\n",
    "           #rfc(n_jobs=8),\n",
    "           LGR(max_iter=100),\n",
    "           min_features=1, \n",
    "           max_features=4, \n",
    "           #scoring = 'neg_mean_squared_error',  # sklearn regressors\n",
    "           scoring='accuracy',  # sklearn classifiers,\n",
    "           n_jobs=8,\n",
    "           cv=3)"
   ]
  },
  {
   "cell_type": "code",
   "execution_count": 44,
   "metadata": {},
   "outputs": [
    {
     "name": "stderr",
     "output_type": "stream",
     "text": [
      "Features: 15/15"
     ]
    },
    {
     "name": "stdout",
     "output_type": "stream",
     "text": [
      "Selected features: ['sepal length (cm)', 'sepal width (cm)', 'petal length (cm)', 'petal width (cm)']\n"
     ]
    }
   ],
   "source": [
    "#efs = efs.fit(X, y,custom_feature_names=feature_names)\n",
    "\n",
    "\n",
    "from sklearn.linear_model import LogisticRegression\n",
    "from mlxtend.feature_selection import ExhaustiveFeatureSelector\n",
    "\n",
    "# Assuming you have your data in X and y\n",
    "\n",
    "# Initialize Logistic Regression model\n",
    "logistic_model = LogisticRegression(max_iter=100)\n",
    "\n",
    "# Initialize EFS\n",
    "efs = ExhaustiveFeatureSelector(estimator=logistic_model,\n",
    "                                min_features=1, \n",
    "                                max_features=4, \n",
    "                                scoring='accuracy',\n",
    "                                n_jobs=8,\n",
    "                                cv=3)\n",
    "\n",
    "# Fit EFS\n",
    "efs = efs.fit(X, y)\n",
    "\n",
    "# Print selected features\n",
    "selected_features = list(efs.best_feature_names_)\n",
    "print(\"Selected features:\", selected_features)\n"
   ]
  },
  {
   "cell_type": "code",
   "execution_count": 45,
   "metadata": {},
   "outputs": [
    {
     "data": {
      "text/plain": [
       "('sepal length (cm)',\n",
       " 'sepal width (cm)',\n",
       " 'petal length (cm)',\n",
       " 'petal width (cm)')"
      ]
     },
     "execution_count": 45,
     "metadata": {},
     "output_type": "execute_result"
    }
   ],
   "source": [
    "efs.best_feature_names_"
   ]
  },
  {
   "cell_type": "code",
   "execution_count": 46,
   "metadata": {},
   "outputs": [
    {
     "data": {
      "text/plain": [
       "0.9733333333333333"
      ]
     },
     "execution_count": 46,
     "metadata": {},
     "output_type": "execute_result"
    }
   ],
   "source": [
    "efs.best_score_"
   ]
  },
  {
   "cell_type": "code",
   "execution_count": 47,
   "metadata": {},
   "outputs": [
    {
     "data": {
      "text/html": [
       "<div>\n",
       "<style scoped>\n",
       "    .dataframe tbody tr th:only-of-type {\n",
       "        vertical-align: middle;\n",
       "    }\n",
       "\n",
       "    .dataframe tbody tr th {\n",
       "        vertical-align: top;\n",
       "    }\n",
       "\n",
       "    .dataframe thead th {\n",
       "        text-align: right;\n",
       "    }\n",
       "</style>\n",
       "<table border=\"1\" class=\"dataframe\">\n",
       "  <thead>\n",
       "    <tr style=\"text-align: right;\">\n",
       "      <th></th>\n",
       "      <th>feature_idx</th>\n",
       "      <th>avg_score</th>\n",
       "    </tr>\n",
       "  </thead>\n",
       "  <tbody>\n",
       "    <tr>\n",
       "      <th>0</th>\n",
       "      <td>(0,)</td>\n",
       "      <td>0.726667</td>\n",
       "    </tr>\n",
       "    <tr>\n",
       "      <th>1</th>\n",
       "      <td>(1,)</td>\n",
       "      <td>0.566667</td>\n",
       "    </tr>\n",
       "    <tr>\n",
       "      <th>2</th>\n",
       "      <td>(2,)</td>\n",
       "      <td>0.953333</td>\n",
       "    </tr>\n",
       "    <tr>\n",
       "      <th>3</th>\n",
       "      <td>(3,)</td>\n",
       "      <td>0.96</td>\n",
       "    </tr>\n",
       "    <tr>\n",
       "      <th>4</th>\n",
       "      <td>(0, 1)</td>\n",
       "      <td>0.82</td>\n",
       "    </tr>\n",
       "    <tr>\n",
       "      <th>5</th>\n",
       "      <td>(0, 2)</td>\n",
       "      <td>0.946667</td>\n",
       "    </tr>\n",
       "    <tr>\n",
       "      <th>6</th>\n",
       "      <td>(0, 3)</td>\n",
       "      <td>0.94</td>\n",
       "    </tr>\n",
       "    <tr>\n",
       "      <th>7</th>\n",
       "      <td>(1, 2)</td>\n",
       "      <td>0.953333</td>\n",
       "    </tr>\n",
       "    <tr>\n",
       "      <th>8</th>\n",
       "      <td>(1, 3)</td>\n",
       "      <td>0.933333</td>\n",
       "    </tr>\n",
       "    <tr>\n",
       "      <th>9</th>\n",
       "      <td>(2, 3)</td>\n",
       "      <td>0.96</td>\n",
       "    </tr>\n",
       "    <tr>\n",
       "      <th>10</th>\n",
       "      <td>(0, 1, 2)</td>\n",
       "      <td>0.946667</td>\n",
       "    </tr>\n",
       "    <tr>\n",
       "      <th>11</th>\n",
       "      <td>(0, 1, 3)</td>\n",
       "      <td>0.94</td>\n",
       "    </tr>\n",
       "    <tr>\n",
       "      <th>12</th>\n",
       "      <td>(0, 2, 3)</td>\n",
       "      <td>0.966667</td>\n",
       "    </tr>\n",
       "    <tr>\n",
       "      <th>13</th>\n",
       "      <td>(1, 2, 3)</td>\n",
       "      <td>0.96</td>\n",
       "    </tr>\n",
       "    <tr>\n",
       "      <th>14</th>\n",
       "      <td>(0, 1, 2, 3)</td>\n",
       "      <td>0.973333</td>\n",
       "    </tr>\n",
       "  </tbody>\n",
       "</table>\n",
       "</div>"
      ],
      "text/plain": [
       "     feature_idx avg_score\n",
       "0           (0,)  0.726667\n",
       "1           (1,)  0.566667\n",
       "2           (2,)  0.953333\n",
       "3           (3,)      0.96\n",
       "4         (0, 1)      0.82\n",
       "5         (0, 2)  0.946667\n",
       "6         (0, 3)      0.94\n",
       "7         (1, 2)  0.953333\n",
       "8         (1, 3)  0.933333\n",
       "9         (2, 3)      0.96\n",
       "10     (0, 1, 2)  0.946667\n",
       "11     (0, 1, 3)      0.94\n",
       "12     (0, 2, 3)  0.966667\n",
       "13     (1, 2, 3)      0.96\n",
       "14  (0, 1, 2, 3)  0.973333"
      ]
     },
     "execution_count": 47,
     "metadata": {},
     "output_type": "execute_result"
    }
   ],
   "source": [
    "df = pd.DataFrame.from_dict(efs.get_metric_dict()).T\n",
    "df = df[[\"feature_idx\",\"avg_score\"]]\n",
    "df"
   ]
  },
  {
   "cell_type": "markdown",
   "metadata": {},
   "source": [
    "**Advantages:**\n",
    "1. They detect the interaction between variables\n",
    "2. They find the optimal feature subset for the desired machine learning algorithm\n",
    "\n",
    "**Disadvantages:**\n",
    "1. Computationaly are very expensive and takes lots of time."
   ]
  }
 ],
 "metadata": {
  "kernelspec": {
   "display_name": "Python 3 (ipykernel)",
   "language": "python",
   "name": "python3"
  },
  "language_info": {
   "codemirror_mode": {
    "name": "ipython",
    "version": 3
   },
   "file_extension": ".py",
   "mimetype": "text/x-python",
   "name": "python",
   "nbconvert_exporter": "python",
   "pygments_lexer": "ipython3",
   "version": "3.11.5"
  }
 },
 "nbformat": 4,
 "nbformat_minor": 4
}
