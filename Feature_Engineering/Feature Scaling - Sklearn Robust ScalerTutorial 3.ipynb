{
 "cells": [
  {
   "cell_type": "markdown",
   "id": "liked-triangle",
   "metadata": {},
   "source": [
    "## Handson Feature Scaling -Part3\n",
    " - sklearn - RobustScaler \n"
   ]
  },
  {
   "cell_type": "code",
   "execution_count": 1,
   "id": "corporate-stylus",
   "metadata": {},
   "outputs": [],
   "source": [
    "import pandas as pd\n",
    "import numpy as np\n",
    "import matplotlib.pyplot as plt\n",
    "import seaborn as sns\n",
    "%matplotlib inline "
   ]
  },
  {
   "cell_type": "code",
   "execution_count": 2,
   "id": "common-camcorder",
   "metadata": {},
   "outputs": [
    {
     "data": {
      "text/html": [
       "<div>\n",
       "<style scoped>\n",
       "    .dataframe tbody tr th:only-of-type {\n",
       "        vertical-align: middle;\n",
       "    }\n",
       "\n",
       "    .dataframe tbody tr th {\n",
       "        vertical-align: top;\n",
       "    }\n",
       "\n",
       "    .dataframe thead th {\n",
       "        text-align: right;\n",
       "    }\n",
       "</style>\n",
       "<table border=\"1\" class=\"dataframe\">\n",
       "  <thead>\n",
       "    <tr style=\"text-align: right;\">\n",
       "      <th></th>\n",
       "      <th>Experience</th>\n",
       "      <th>Salary</th>\n",
       "      <th>Country_Type</th>\n",
       "    </tr>\n",
       "  </thead>\n",
       "  <tbody>\n",
       "    <tr>\n",
       "      <th>0</th>\n",
       "      <td>1</td>\n",
       "      <td>30</td>\n",
       "      <td>Devloping</td>\n",
       "    </tr>\n",
       "    <tr>\n",
       "      <th>1</th>\n",
       "      <td>3</td>\n",
       "      <td>35</td>\n",
       "      <td>Developed</td>\n",
       "    </tr>\n",
       "    <tr>\n",
       "      <th>2</th>\n",
       "      <td>4</td>\n",
       "      <td>43</td>\n",
       "      <td>Devloping</td>\n",
       "    </tr>\n",
       "    <tr>\n",
       "      <th>3</th>\n",
       "      <td>5</td>\n",
       "      <td>36</td>\n",
       "      <td>Developed</td>\n",
       "    </tr>\n",
       "    <tr>\n",
       "      <th>4</th>\n",
       "      <td>6</td>\n",
       "      <td>27</td>\n",
       "      <td>Devloping</td>\n",
       "    </tr>\n",
       "    <tr>\n",
       "      <th>5</th>\n",
       "      <td>4</td>\n",
       "      <td>32</td>\n",
       "      <td>Developed</td>\n",
       "    </tr>\n",
       "    <tr>\n",
       "      <th>6</th>\n",
       "      <td>5</td>\n",
       "      <td>18</td>\n",
       "      <td>Developed</td>\n",
       "    </tr>\n",
       "    <tr>\n",
       "      <th>7</th>\n",
       "      <td>3</td>\n",
       "      <td>10</td>\n",
       "      <td>Developed</td>\n",
       "    </tr>\n",
       "    <tr>\n",
       "      <th>8</th>\n",
       "      <td>2</td>\n",
       "      <td>12</td>\n",
       "      <td>Devloping</td>\n",
       "    </tr>\n",
       "    <tr>\n",
       "      <th>9</th>\n",
       "      <td>5</td>\n",
       "      <td>11</td>\n",
       "      <td>Devloping</td>\n",
       "    </tr>\n",
       "    <tr>\n",
       "      <th>10</th>\n",
       "      <td>4</td>\n",
       "      <td>37</td>\n",
       "      <td>Devloping</td>\n",
       "    </tr>\n",
       "    <tr>\n",
       "      <th>11</th>\n",
       "      <td>5</td>\n",
       "      <td>21</td>\n",
       "      <td>Developed</td>\n",
       "    </tr>\n",
       "    <tr>\n",
       "      <th>12</th>\n",
       "      <td>3</td>\n",
       "      <td>14</td>\n",
       "      <td>Devloping</td>\n",
       "    </tr>\n",
       "    <tr>\n",
       "      <th>13</th>\n",
       "      <td>2</td>\n",
       "      <td>16</td>\n",
       "      <td>Developed</td>\n",
       "    </tr>\n",
       "    <tr>\n",
       "      <th>14</th>\n",
       "      <td>1</td>\n",
       "      <td>8</td>\n",
       "      <td>Devloping</td>\n",
       "    </tr>\n",
       "  </tbody>\n",
       "</table>\n",
       "</div>"
      ],
      "text/plain": [
       "    Experience  Salary Country_Type\n",
       "0            1      30    Devloping\n",
       "1            3      35    Developed\n",
       "2            4      43    Devloping\n",
       "3            5      36    Developed\n",
       "4            6      27    Devloping\n",
       "5            4      32    Developed\n",
       "6            5      18    Developed\n",
       "7            3      10    Developed\n",
       "8            2      12    Devloping\n",
       "9            5      11    Devloping\n",
       "10           4      37    Devloping\n",
       "11           5      21    Developed\n",
       "12           3      14    Devloping\n",
       "13           2      16    Developed\n",
       "14           1       8    Devloping"
      ]
     },
     "execution_count": 2,
     "metadata": {},
     "output_type": "execute_result"
    }
   ],
   "source": [
    "# load the other dataset\n",
    "df_country = pd.read_excel(r\"D:\\Notebooks\\Practice CML and me\\all_ml_dl\\Data\\Data_Files\\Feature_Engineering\\Scaling.xlsx\")\n",
    "df_country                      "
   ]
  },
  {
   "cell_type": "code",
   "execution_count": 3,
   "id": "numerical-parker",
   "metadata": {},
   "outputs": [],
   "source": [
    "X = df_country.drop(\"Country_Type\",axis=1)\n",
    "y = df_country[\"Country_Type\"]"
   ]
  },
  {
   "cell_type": "code",
   "execution_count": 4,
   "id": "coupled-latter",
   "metadata": {},
   "outputs": [
    {
     "name": "stdout",
     "output_type": "stream",
     "text": [
      "(15, 2)\n",
      "(15,)\n",
      "<class 'pandas.core.frame.DataFrame'>\n",
      "<class 'pandas.core.series.Series'>\n"
     ]
    }
   ],
   "source": [
    "print(X.shape)\n",
    "print(y.shape)\n",
    "print(type(X))\n",
    "print(type(y))"
   ]
  },
  {
   "cell_type": "code",
   "execution_count": 5,
   "id": "growing-vault",
   "metadata": {},
   "outputs": [],
   "source": [
    "from sklearn.model_selection import train_test_split"
   ]
  },
  {
   "cell_type": "code",
   "execution_count": 6,
   "id": "spanish-messenger",
   "metadata": {},
   "outputs": [],
   "source": [
    "# First we will devide the dataset in train and test\n",
    "X_train, X_test, y_train, y_test = train_test_split(X,y,test_size=0.33, random_state=42)"
   ]
  },
  {
   "cell_type": "code",
   "execution_count": 7,
   "id": "complimentary-saudi",
   "metadata": {},
   "outputs": [
    {
     "name": "stdout",
     "output_type": "stream",
     "text": [
      "(10, 2)\n",
      "(10,)\n",
      "(5, 2)\n",
      "(5,)\n"
     ]
    }
   ],
   "source": [
    "print(X_train.shape)\n",
    "print(y_train.shape)\n",
    "print(X_test.shape)\n",
    "print(y_test.shape)"
   ]
  },
  {
   "cell_type": "code",
   "execution_count": 8,
   "id": "joint-privilege",
   "metadata": {},
   "outputs": [],
   "source": [
    "df_exp = X_train"
   ]
  },
  {
   "cell_type": "code",
   "execution_count": 9,
   "id": "improved-heavy",
   "metadata": {},
   "outputs": [
    {
     "data": {
      "text/html": [
       "<div>\n",
       "<style scoped>\n",
       "    .dataframe tbody tr th:only-of-type {\n",
       "        vertical-align: middle;\n",
       "    }\n",
       "\n",
       "    .dataframe tbody tr th {\n",
       "        vertical-align: top;\n",
       "    }\n",
       "\n",
       "    .dataframe thead th {\n",
       "        text-align: right;\n",
       "    }\n",
       "</style>\n",
       "<table border=\"1\" class=\"dataframe\">\n",
       "  <thead>\n",
       "    <tr style=\"text-align: right;\">\n",
       "      <th></th>\n",
       "      <th>Experience</th>\n",
       "      <th>Salary</th>\n",
       "    </tr>\n",
       "  </thead>\n",
       "  <tbody>\n",
       "    <tr>\n",
       "      <th>8</th>\n",
       "      <td>2</td>\n",
       "      <td>12</td>\n",
       "    </tr>\n",
       "    <tr>\n",
       "      <th>2</th>\n",
       "      <td>4</td>\n",
       "      <td>43</td>\n",
       "    </tr>\n",
       "    <tr>\n",
       "      <th>1</th>\n",
       "      <td>3</td>\n",
       "      <td>35</td>\n",
       "    </tr>\n",
       "    <tr>\n",
       "      <th>14</th>\n",
       "      <td>1</td>\n",
       "      <td>8</td>\n",
       "    </tr>\n",
       "    <tr>\n",
       "      <th>4</th>\n",
       "      <td>6</td>\n",
       "      <td>27</td>\n",
       "    </tr>\n",
       "    <tr>\n",
       "      <th>7</th>\n",
       "      <td>3</td>\n",
       "      <td>10</td>\n",
       "    </tr>\n",
       "    <tr>\n",
       "      <th>10</th>\n",
       "      <td>4</td>\n",
       "      <td>37</td>\n",
       "    </tr>\n",
       "    <tr>\n",
       "      <th>12</th>\n",
       "      <td>3</td>\n",
       "      <td>14</td>\n",
       "    </tr>\n",
       "    <tr>\n",
       "      <th>3</th>\n",
       "      <td>5</td>\n",
       "      <td>36</td>\n",
       "    </tr>\n",
       "    <tr>\n",
       "      <th>6</th>\n",
       "      <td>5</td>\n",
       "      <td>18</td>\n",
       "    </tr>\n",
       "  </tbody>\n",
       "</table>\n",
       "</div>"
      ],
      "text/plain": [
       "    Experience  Salary\n",
       "8            2      12\n",
       "2            4      43\n",
       "1            3      35\n",
       "14           1       8\n",
       "4            6      27\n",
       "7            3      10\n",
       "10           4      37\n",
       "12           3      14\n",
       "3            5      36\n",
       "6            5      18"
      ]
     },
     "execution_count": 9,
     "metadata": {},
     "output_type": "execute_result"
    }
   ],
   "source": [
    "df_exp"
   ]
  },
  {
   "cell_type": "code",
   "execution_count": 10,
   "id": "fatal-quarterly",
   "metadata": {},
   "outputs": [
    {
     "data": {
      "text/html": [
       "<div>\n",
       "<style scoped>\n",
       "    .dataframe tbody tr th:only-of-type {\n",
       "        vertical-align: middle;\n",
       "    }\n",
       "\n",
       "    .dataframe tbody tr th {\n",
       "        vertical-align: top;\n",
       "    }\n",
       "\n",
       "    .dataframe thead th {\n",
       "        text-align: right;\n",
       "    }\n",
       "</style>\n",
       "<table border=\"1\" class=\"dataframe\">\n",
       "  <thead>\n",
       "    <tr style=\"text-align: right;\">\n",
       "      <th></th>\n",
       "      <th>Experience</th>\n",
       "      <th>Salary</th>\n",
       "    </tr>\n",
       "  </thead>\n",
       "  <tbody>\n",
       "    <tr>\n",
       "      <th>9</th>\n",
       "      <td>5</td>\n",
       "      <td>11</td>\n",
       "    </tr>\n",
       "    <tr>\n",
       "      <th>11</th>\n",
       "      <td>5</td>\n",
       "      <td>21</td>\n",
       "    </tr>\n",
       "    <tr>\n",
       "      <th>0</th>\n",
       "      <td>1</td>\n",
       "      <td>30</td>\n",
       "    </tr>\n",
       "    <tr>\n",
       "      <th>13</th>\n",
       "      <td>2</td>\n",
       "      <td>16</td>\n",
       "    </tr>\n",
       "    <tr>\n",
       "      <th>5</th>\n",
       "      <td>4</td>\n",
       "      <td>32</td>\n",
       "    </tr>\n",
       "  </tbody>\n",
       "</table>\n",
       "</div>"
      ],
      "text/plain": [
       "    Experience  Salary\n",
       "9            5      11\n",
       "11           5      21\n",
       "0            1      30\n",
       "13           2      16\n",
       "5            4      32"
      ]
     },
     "execution_count": 10,
     "metadata": {},
     "output_type": "execute_result"
    }
   ],
   "source": [
    "X_test"
   ]
  },
  {
   "cell_type": "markdown",
   "id": "structured-attitude",
   "metadata": {},
   "source": [
    "### Standard Scaler"
   ]
  },
  {
   "cell_type": "code",
   "execution_count": 11,
   "id": "protected-nirvana",
   "metadata": {},
   "outputs": [],
   "source": [
    "from sklearn.preprocessing import StandardScaler"
   ]
  },
  {
   "cell_type": "code",
   "execution_count": 12,
   "id": "historic-palestine",
   "metadata": {},
   "outputs": [
    {
     "name": "stdout",
     "output_type": "stream",
     "text": [
      "<class 'numpy.ndarray'>\n"
     ]
    },
    {
     "data": {
      "text/html": [
       "<div>\n",
       "<style scoped>\n",
       "    .dataframe tbody tr th:only-of-type {\n",
       "        vertical-align: middle;\n",
       "    }\n",
       "\n",
       "    .dataframe tbody tr th {\n",
       "        vertical-align: top;\n",
       "    }\n",
       "\n",
       "    .dataframe thead th {\n",
       "        text-align: right;\n",
       "    }\n",
       "</style>\n",
       "<table border=\"1\" class=\"dataframe\">\n",
       "  <thead>\n",
       "    <tr style=\"text-align: right;\">\n",
       "      <th></th>\n",
       "      <th>Experience</th>\n",
       "      <th>Salary</th>\n",
       "    </tr>\n",
       "  </thead>\n",
       "  <tbody>\n",
       "    <tr>\n",
       "      <th>0</th>\n",
       "      <td>-1.120224</td>\n",
       "      <td>-0.968246</td>\n",
       "    </tr>\n",
       "    <tr>\n",
       "      <th>1</th>\n",
       "      <td>0.280056</td>\n",
       "      <td>1.533056</td>\n",
       "    </tr>\n",
       "    <tr>\n",
       "      <th>2</th>\n",
       "      <td>-0.420084</td>\n",
       "      <td>0.887559</td>\n",
       "    </tr>\n",
       "    <tr>\n",
       "      <th>3</th>\n",
       "      <td>-1.820364</td>\n",
       "      <td>-1.290994</td>\n",
       "    </tr>\n",
       "    <tr>\n",
       "      <th>4</th>\n",
       "      <td>1.680336</td>\n",
       "      <td>0.242061</td>\n",
       "    </tr>\n",
       "    <tr>\n",
       "      <th>5</th>\n",
       "      <td>-0.420084</td>\n",
       "      <td>-1.129620</td>\n",
       "    </tr>\n",
       "    <tr>\n",
       "      <th>6</th>\n",
       "      <td>0.280056</td>\n",
       "      <td>1.048933</td>\n",
       "    </tr>\n",
       "    <tr>\n",
       "      <th>7</th>\n",
       "      <td>-0.420084</td>\n",
       "      <td>-0.806872</td>\n",
       "    </tr>\n",
       "    <tr>\n",
       "      <th>8</th>\n",
       "      <td>0.980196</td>\n",
       "      <td>0.968246</td>\n",
       "    </tr>\n",
       "    <tr>\n",
       "      <th>9</th>\n",
       "      <td>0.980196</td>\n",
       "      <td>-0.484123</td>\n",
       "    </tr>\n",
       "  </tbody>\n",
       "</table>\n",
       "</div>"
      ],
      "text/plain": [
       "   Experience    Salary\n",
       "0   -1.120224 -0.968246\n",
       "1    0.280056  1.533056\n",
       "2   -0.420084  0.887559\n",
       "3   -1.820364 -1.290994\n",
       "4    1.680336  0.242061\n",
       "5   -0.420084 -1.129620\n",
       "6    0.280056  1.048933\n",
       "7   -0.420084 -0.806872\n",
       "8    0.980196  0.968246\n",
       "9    0.980196 -0.484123"
      ]
     },
     "execution_count": 12,
     "metadata": {},
     "output_type": "execute_result"
    }
   ],
   "source": [
    "# create the object\n",
    "std_scale = StandardScaler()\n",
    "# fit and transform the columns (\"Experience\" and \"Salary\")\n",
    "df_exp_std = std_scale.fit_transform(df_exp.iloc[:,0:2])\n",
    "print(type(df_exp_std))\n",
    "df_exp_std_new = pd.DataFrame(df_exp_std,columns=[\"Experience\",\"Salary\"])\n",
    "df_exp_std_new"
   ]
  },
  {
   "cell_type": "code",
   "execution_count": 13,
   "id": "favorite-adobe",
   "metadata": {},
   "outputs": [
    {
     "name": "stdout",
     "output_type": "stream",
     "text": [
      "std:  1.0\n",
      "mean:  -0.0\n"
     ]
    }
   ],
   "source": [
    "print(\"std: \",round(df_exp_std_new.Experience.std(),0))\n",
    "print(\"mean: \",round(df_exp_std_new.Experience.mean(),2))"
   ]
  },
  {
   "cell_type": "code",
   "execution_count": 14,
   "id": "israeli-julian",
   "metadata": {},
   "outputs": [
    {
     "data": {
      "text/plain": [
       "<matplotlib.lines.Line2D at 0x2afe1658d50>"
      ]
     },
     "execution_count": 14,
     "metadata": {},
     "output_type": "execute_result"
    },
    {
     "data": {
      "image/png": "[encoded data removed]",
      "text/plain": [
       "<Figure size 640x480 with 1 Axes>"
      ]
     },
     "metadata": {},
     "output_type": "display_data"
    }
   ],
   "source": [
    "ax = df_exp.plot.scatter(x=\"Experience\", y=\"Salary\",marker = '*',s=80, label='BREFORE SCALING',color='red')\n",
    "df_exp_std_new.plot.scatter(x=\"Experience\", y=\"Salary\",marker = '+',s=60,label='AFTER SCALING',\n",
    "                               color='blue', ax = ax)\n",
    "plt.axhline(0, color='red',alpha=0.2)\n",
    "plt.axvline(0, color='red',alpha=0.2)"
   ]
  },
  {
   "cell_type": "markdown",
   "id": "economic-grill",
   "metadata": {},
   "source": [
    "### Robust Scaler\n",
    "\n",
    "  - As the name suggests, this Scaler is robust to outliers. If our data contains many outliers, scaling using the mean and standard deviation of the data won’t work well. Outliers can skew a probability distribution and make data scaling using standardization difficult as the calculated **mean and standard deviation will be skewed by the presence of the outliers.**\n",
    "  - One approach to standardizing input variables in the presence of outliers is to ignore the outliers from the calculation of the mean and standard deviation, then use the calculated values to scale the variable.This is called robust standardization or robust data scaling.\n",
    "  - This can be achieved by calculating the median (50th percentile) and the 25th and 75th percentiles. The values of each variable then have their median subtracted and are divided by the interquartile range (IQR) which is the difference between the 75th and 25th percentiles.\n",
    "  \n",
    "$$\n",
    "X(scale) = \\frac{X – median}{p75 – p25}\n",
    "$$\n",
    "\n",
    "  - The resulting variable has a zero mean and median and a standard deviation of 1, although not skewed by outliers and the outliers are still present with the same relative relationships to other values."
   ]
  },
  {
   "cell_type": "code",
   "execution_count": 15,
   "id": "adjustable-connectivity",
   "metadata": {},
   "outputs": [
    {
     "name": "stdout",
     "output_type": "stream",
     "text": [
      "z_scores using numpy : [-1.29099445 -1.03279556 -0.77459667 -0.51639778 -0.25819889  0.\n",
      "  0.25819889  0.51639778  0.77459667  2.32379001]\n"
     ]
    }
   ],
   "source": [
    "x = [1,2,3,4,5,6,7,8,9,15]\n",
    "# Standardization using numpy\n",
    "import numpy as np\n",
    "x_np = np.array(x)\n",
    "z_scores_np = (x_np - x_np.mean()) / x_np.std()\n",
    "print(\"z_scores using numpy :\",z_scores_np)"
   ]
  },
  {
   "cell_type": "code",
   "execution_count": 16,
   "id": "missing-environment",
   "metadata": {},
   "outputs": [
    {
     "data": {
      "text/plain": [
       "array([-1.        , -0.77777778, -0.55555556, -0.33333333, -0.11111111,\n",
       "        0.11111111,  0.33333333,  0.55555556,  0.77777778,  2.11111111])"
      ]
     },
     "execution_count": 16,
     "metadata": {},
     "output_type": "execute_result"
    }
   ],
   "source": [
    "import numpy as np\n",
    "x_np = np.array(x)\n",
    "x_sc = (x_np-np.median(x_np))/(np.quantile(x_np,0.75)-np.quantile(x_np,0.25))\n",
    "x_sc\n",
    "# interpolation : {'linear', 'lower', 'higher', 'midpoint', 'nearest'}"
   ]
  },
  {
   "cell_type": "code",
   "execution_count": 17,
   "id": "roman-difficulty",
   "metadata": {},
   "outputs": [
    {
     "data": {
      "text/plain": [
       "array([ 1,  2,  3,  4,  5,  6,  7,  8,  9, 15])"
      ]
     },
     "execution_count": 17,
     "metadata": {},
     "output_type": "execute_result"
    }
   ],
   "source": [
    "x_np"
   ]
  },
  {
   "cell_type": "code",
   "execution_count": 18,
   "id": "million-contributor",
   "metadata": {},
   "outputs": [
    {
     "data": {
      "text/plain": [
       "5.5"
      ]
     },
     "execution_count": 18,
     "metadata": {},
     "output_type": "execute_result"
    }
   ],
   "source": [
    "np.median(x_np)"
   ]
  },
  {
   "cell_type": "code",
   "execution_count": 19,
   "id": "complete-thickness",
   "metadata": {},
   "outputs": [
    {
     "name": "stderr",
     "output_type": "stream",
     "text": [
      "C:\\Users\\HP\\AppData\\Local\\Temp\\ipykernel_14620\\4065673101.py:1: DeprecationWarning: the `interpolation=` argument to quantile was renamed to `method=`, which has additional options.\n",
      "Users of the modes 'nearest', 'lower', 'higher', or 'midpoint' are encouraged to review the method they used. (Deprecated NumPy 1.22)\n",
      "  np.quantile(x_np,0.75,interpolation='midpoint')\n"
     ]
    },
    {
     "data": {
      "text/plain": [
       "7.5"
      ]
     },
     "execution_count": 19,
     "metadata": {},
     "output_type": "execute_result"
    }
   ],
   "source": [
    "np.quantile(x_np,0.75,interpolation='midpoint')"
   ]
  },
  {
   "cell_type": "code",
   "execution_count": 20,
   "id": "naked-torture",
   "metadata": {},
   "outputs": [
    {
     "name": "stderr",
     "output_type": "stream",
     "text": [
      "C:\\Users\\HP\\AppData\\Local\\Temp\\ipykernel_14620\\2538952225.py:1: DeprecationWarning: the `interpolation=` argument to quantile was renamed to `method=`, which has additional options.\n",
      "Users of the modes 'nearest', 'lower', 'higher', or 'midpoint' are encouraged to review the method they used. (Deprecated NumPy 1.22)\n",
      "  np.quantile(x_np,0.25,interpolation='lower')\n"
     ]
    },
    {
     "data": {
      "text/plain": [
       "3"
      ]
     },
     "execution_count": 20,
     "metadata": {},
     "output_type": "execute_result"
    }
   ],
   "source": [
    "np.quantile(x_np,0.25,interpolation='lower')"
   ]
  },
  {
   "cell_type": "code",
   "execution_count": 21,
   "id": "oriented-ratio",
   "metadata": {},
   "outputs": [],
   "source": [
    "from sklearn.preprocessing import RobustScaler"
   ]
  },
  {
   "cell_type": "code",
   "execution_count": 22,
   "id": "silver-performer",
   "metadata": {},
   "outputs": [
    {
     "data": {
      "text/plain": [
       "array([[-1.        ],\n",
       "       [-0.77777778],\n",
       "       [-0.55555556],\n",
       "       [-0.33333333],\n",
       "       [-0.11111111],\n",
       "       [ 0.11111111],\n",
       "       [ 0.33333333],\n",
       "       [ 0.55555556],\n",
       "       [ 0.77777778],\n",
       "       [ 2.11111111]])"
      ]
     },
     "execution_count": 22,
     "metadata": {},
     "output_type": "execute_result"
    }
   ],
   "source": [
    "# create the object\n",
    "rbst_scale = RobustScaler()\n",
    "# default value is quantile_range=(25.0, 75.0), we can change this.\n",
    "df_exp_rbst = rbst_scale.fit_transform(x_np.reshape(-1, 1))\n",
    "df_exp_rbst"
   ]
  },
  {
   "cell_type": "code",
   "execution_count": 23,
   "id": "several-accordance",
   "metadata": {},
   "outputs": [
    {
     "name": "stdout",
     "output_type": "stream",
     "text": [
      "<class 'numpy.ndarray'>\n"
     ]
    },
    {
     "data": {
      "text/html": [
       "<div>\n",
       "<style scoped>\n",
       "    .dataframe tbody tr th:only-of-type {\n",
       "        vertical-align: middle;\n",
       "    }\n",
       "\n",
       "    .dataframe tbody tr th {\n",
       "        vertical-align: top;\n",
       "    }\n",
       "\n",
       "    .dataframe thead th {\n",
       "        text-align: right;\n",
       "    }\n",
       "</style>\n",
       "<table border=\"1\" class=\"dataframe\">\n",
       "  <thead>\n",
       "    <tr style=\"text-align: right;\">\n",
       "      <th></th>\n",
       "      <th>Experience</th>\n",
       "      <th>Salary</th>\n",
       "    </tr>\n",
       "  </thead>\n",
       "  <tbody>\n",
       "    <tr>\n",
       "      <th>0</th>\n",
       "      <td>-0.857143</td>\n",
       "      <td>-0.451613</td>\n",
       "    </tr>\n",
       "    <tr>\n",
       "      <th>1</th>\n",
       "      <td>0.285714</td>\n",
       "      <td>0.881720</td>\n",
       "    </tr>\n",
       "    <tr>\n",
       "      <th>2</th>\n",
       "      <td>-0.285714</td>\n",
       "      <td>0.537634</td>\n",
       "    </tr>\n",
       "    <tr>\n",
       "      <th>3</th>\n",
       "      <td>-1.428571</td>\n",
       "      <td>-0.623656</td>\n",
       "    </tr>\n",
       "    <tr>\n",
       "      <th>4</th>\n",
       "      <td>1.428571</td>\n",
       "      <td>0.193548</td>\n",
       "    </tr>\n",
       "    <tr>\n",
       "      <th>5</th>\n",
       "      <td>-0.285714</td>\n",
       "      <td>-0.537634</td>\n",
       "    </tr>\n",
       "    <tr>\n",
       "      <th>6</th>\n",
       "      <td>0.285714</td>\n",
       "      <td>0.623656</td>\n",
       "    </tr>\n",
       "    <tr>\n",
       "      <th>7</th>\n",
       "      <td>-0.285714</td>\n",
       "      <td>-0.365591</td>\n",
       "    </tr>\n",
       "    <tr>\n",
       "      <th>8</th>\n",
       "      <td>0.857143</td>\n",
       "      <td>0.580645</td>\n",
       "    </tr>\n",
       "    <tr>\n",
       "      <th>9</th>\n",
       "      <td>0.857143</td>\n",
       "      <td>-0.193548</td>\n",
       "    </tr>\n",
       "  </tbody>\n",
       "</table>\n",
       "</div>"
      ],
      "text/plain": [
       "   Experience    Salary\n",
       "0   -0.857143 -0.451613\n",
       "1    0.285714  0.881720\n",
       "2   -0.285714  0.537634\n",
       "3   -1.428571 -0.623656\n",
       "4    1.428571  0.193548\n",
       "5   -0.285714 -0.537634\n",
       "6    0.285714  0.623656\n",
       "7   -0.285714 -0.365591\n",
       "8    0.857143  0.580645\n",
       "9    0.857143 -0.193548"
      ]
     },
     "execution_count": 23,
     "metadata": {},
     "output_type": "execute_result"
    }
   ],
   "source": [
    "# create the object\n",
    "rbst_scale = RobustScaler()\n",
    "# default value is quantile_range=(25.0, 75.0), we can change this.\n",
    "# fit and transform the columns (\"Experience\" and \"Salary\")\n",
    "df_exp_rbst = rbst_scale.fit_transform(df_exp.iloc[:,0:2])\n",
    "print(type(df_exp_std))\n",
    "df_exp_rbst_new = pd.DataFrame(df_exp_rbst,columns=[\"Experience\",\"Salary\"])\n",
    "df_exp_rbst_new"
   ]
  },
  {
   "cell_type": "markdown",
   "id": "secret-labor",
   "metadata": {},
   "source": [
    "default value is quantile_range=(25.0, 75.0)\n",
    "\n",
    "The range used to scale each variable is chosen by default as the IQR is bounded by the 25th and 75th percentiles.\n",
    "This is specified by the “quantile_range” argument as a tuple.\n",
    "Other values can be specified and might improve the performance of the model, such as a wider range, allowing fewer values to be considered outliers, or a more narrow range, allowing more values to be considered outliers."
   ]
  },
  {
   "cell_type": "code",
   "execution_count": 24,
   "id": "cloudy-charger",
   "metadata": {},
   "outputs": [
    {
     "data": {
      "text/plain": [
       "<matplotlib.lines.Line2D at 0x2afe3705a90>"
      ]
     },
     "execution_count": 24,
     "metadata": {},
     "output_type": "execute_result"
    },
    {
     "data": {
      "image/png": "[encoded data removed]",
      "text/plain": [
       "<Figure size 640x480 with 1 Axes>"
      ]
     },
     "metadata": {},
     "output_type": "display_data"
    }
   ],
   "source": [
    "ax = df_exp.plot.scatter(x=\"Experience\", y=\"Salary\",marker = '*',s=80, label='BREFORE SCALING',color='red')\n",
    "df_exp_rbst_new.plot.scatter(x=\"Experience\", y=\"Salary\",marker = 'o',s=60,label='AFTER SCALING',\n",
    "                               color='blue', ax = ax)\n",
    "plt.axhline(0, color='red',alpha=0.2)\n",
    "plt.axvline(0, color='red',alpha=0.2)"
   ]
  },
  {
   "cell_type": "markdown",
   "id": "thirty-tunnel",
   "metadata": {},
   "source": [
    "Let’s now see what happens if we introduce an outlier and see the effect of scaling using Standard Scaler and Robust Scaler."
   ]
  },
  {
   "cell_type": "code",
   "execution_count": 25,
   "id": "regulated-proposition",
   "metadata": {},
   "outputs": [
    {
     "name": "stdout",
     "output_type": "stream",
     "text": [
      "      Weight  Height\n",
      "Tom       64       4\n",
      "John      68       7\n",
      "Magi      62       6\n",
      "Joya      59       5\n",
      "Tall     110      11\n"
     ]
    }
   ],
   "source": [
    "df = pd.DataFrame({\"Weight\":[64,68,62,59,110],\"Height\":[4,7,6,5,11]},index=[\"Tom\",\"John\",\"Magi\",\"Joya\",\"Tall\"])\n",
    "print(df)"
   ]
  },
  {
   "cell_type": "code",
   "execution_count": 26,
   "id": "universal-norfolk",
   "metadata": {},
   "outputs": [
    {
     "data": {
      "text/plain": [
       "<matplotlib.lines.Line2D at 0x2afe375e3d0>"
      ]
     },
     "execution_count": 26,
     "metadata": {},
     "output_type": "execute_result"
    },
    {
     "data": {
      "image/png": "[encoded data removed]",
      "text/plain": [
       "<Figure size 1200x600 with 1 Axes>"
      ]
     },
     "metadata": {},
     "output_type": "display_data"
    }
   ],
   "source": [
    "ax = df.plot.scatter(x='Weight', y='Height',color='green',marker = '*',s=40, label='BREFORE SCALING')\n",
    "\n",
    "# Apply StandardScaler\n",
    "scaler_s = StandardScaler()\n",
    "df1 = pd.DataFrame(scaler_s.fit_transform(df),columns=['Weight','Height'],index = [\"Tom\",\"John\",\"Magi\",\"Joya\",\"Tall\"])\n",
    "df1.plot.scatter(x='Weight', y='Height', color='red',marker = 'P',s=40,label='STANDARD', ax = ax,figsize=(12,6))\n",
    "\n",
    "# Apply RobustScaler\n",
    "scaler_r = RobustScaler()\n",
    "df2 = pd.DataFrame(scaler_r.fit_transform(df),columns=['Weight','Height'],index = [\"Tom\",\"John\",\"Magi\",\"Joya\",\"Tall\"])\n",
    "df2.plot.scatter(x='Weight', y='Height', color='blue',marker = '+',s=40,label='ROBUST', ax = ax,figsize=(12,6))\n",
    "\n",
    "plt.axhline(0, color='red',alpha=0.3)\n",
    "plt.axvline(0, color='red',alpha=0.3)"
   ]
  },
  {
   "cell_type": "code",
   "execution_count": null,
   "id": "c63882c5",
   "metadata": {},
   "outputs": [],
   "source": []
  }
 ],
 "metadata": {
  "kernelspec": {
   "display_name": "Python 3 (ipykernel)",
   "language": "python",
   "name": "python3"
  },
  "language_info": {
   "codemirror_mode": {
    "name": "ipython",
    "version": 3
   },
   "file_extension": ".py",
   "mimetype": "text/x-python",
   "name": "python",
   "nbconvert_exporter": "python",
   "pygments_lexer": "ipython3",
   "version": "3.11.5"
  }
 },
 "nbformat": 4,
 "nbformat_minor": 5
}
